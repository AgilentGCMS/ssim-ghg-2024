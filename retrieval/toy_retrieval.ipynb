{
 "cells": [
  {
   "cell_type": "code",
   "execution_count": null,
   "id": "2a8305da-1262-4f72-9877-b67b682df30f",
   "metadata": {},
   "outputs": [],
   "source": [
    "import numpy as np\n",
    "import numpy.linalg as LA\n",
    "import matplotlib.pyplot as plt\n",
    "import h5py\n",
    "import sys\n",
    "import os\n",
    "from absco_lookup import load_absco_file\n",
    "from mie import mie_phase_function\n",
    "from retrieval import ForwardFunction, Retrieval, calculate_Xgas, calculate_n_dry_air\n",
    "import settings as s\n",
    "from copy import deepcopy"
   ]
  },
  {
   "cell_type": "markdown",
   "id": "5b347a2b-af70-4376-8095-1e9b0eacce9b",
   "metadata": {},
   "source": [
    "#### Default settings can be found in settings.py, e.g.:\n",
    "\n",
    "Band limits:\n",
    "*   0.76 um O$_2$ A-band\n",
    "*   1.60 um CO$_2$ band\n",
    "*   1.65 um CH$_4$ band"
   ]
  },
  {
   "cell_type": "markdown",
   "id": "d29ea32b-e513-440f-92d5-da1c6c96c635",
   "metadata": {},
   "source": [
    "#### Load ABSCO tables:"
   ]
  },
  {
   "cell_type": "code",
   "execution_count": null,
   "id": "3d1aa1c5-c55b-434a-8c59-9f817907f762",
   "metadata": {},
   "outputs": [],
   "source": [
    "absco_data = load_absco_file(os.path.join(s.ABSCO_TABLE_FOLDER, \"absco.h5\"))"
   ]
  },
  {
   "cell_type": "markdown",
   "id": "fe2f698e-22f3-41fd-98d2-06e9a2c31bdb",
   "metadata": {},
   "source": [
    "#### (1) Use our true values to model some radiances. Initially not including aerosols:"
   ]
  },
  {
   "cell_type": "code",
   "execution_count": null,
   "id": "3988c52b-fea2-4a5d-a8f9-d4cdc5022117",
   "metadata": {},
   "outputs": [],
   "source": [
    "model_true = ForwardFunction(\n",
    "    absco_data=absco_data,\n",
    "    measurement_error=True #Add noise\n",
    "    )"
   ]
  },
  {
   "cell_type": "markdown",
   "id": "1f5da81e-4996-4a4e-86ff-2edc7839a094",
   "metadata": {},
   "source": [
    "#### Plot true radiances:"
   ]
  },
  {
   "cell_type": "code",
   "execution_count": null,
   "id": "294108cf-f605-452d-a6a3-e554f8ed1079",
   "metadata": {},
   "outputs": [],
   "source": [
    "fig, ax = plt.subplots(3, 1, figsize=(12,10))\n",
    "ax[0].plot(model_true.band_wl[0], model_true.R_band[0],c='#377eb8')\n",
    "ax[0].set_xlim(min(model_true.band_wl[0]),max(model_true.band_wl[0]))\n",
    "ax[0].set_title(\"O\"+r'$_2$'+\" A-band\")\n",
    "ax[0].grid(True)\n",
    "ax[1].plot(model_true.band_wl[1], model_true.R_band[1],c='#377eb8')\n",
    "ax[1].set_xlim(min(model_true.band_wl[1]),max(model_true.band_wl[1]))\n",
    "ax[1].set_ylabel('True Radiance [W '+r'$m^{-2}$'+r'$ sr^{-1}$'+r'$\\mu m^{-1}$'+']',size=16)\n",
    "ax[1].set_title(\"CO\"+r'$_2$')\n",
    "ax[1].grid(True)\n",
    "ax[2].plot(model_true.band_wl[2], model_true.R_band[2],c='#377eb8')\n",
    "ax[2].set_xlim(min(model_true.band_wl[2]),max(model_true.band_wl[2]))\n",
    "ax[2].set_title(\"CH\"+r'$_4$')\n",
    "ax[2].set_xlabel('Wavelength ['+r'$\\mu m$'+']',size=16)\n",
    "ax[2].grid(True)"
   ]
  },
  {
   "cell_type": "markdown",
   "id": "cc41c00a-7aac-4432-a5d8-90aec15da576",
   "metadata": {},
   "source": [
    "#### Use our prior values to create some modeled radiances:"
   ]
  },
  {
   "cell_type": "code",
   "execution_count": null,
   "id": "8b2e3ba8-a841-4c32-ab7d-61a3e09575a0",
   "metadata": {},
   "outputs": [],
   "source": [
    "model_prior = ForwardFunction(\n",
    "    absco_data=absco_data,\n",
    "    co2=s.co2_prior,\n",
    "    ch4=s.ch4_prior,\n",
    "    T=s.T_prior,\n",
    "    p=s.p_prior,\n",
    "    q=s.q_prior,\n",
    "    albedo=s.albedo_prior,\n",
    "    )"
   ]
  },
  {
   "cell_type": "markdown",
   "id": "08ba756e-0e93-4246-9747-3181e5a90069",
   "metadata": {},
   "source": [
    "#### Plot the residuals between the prior modeled radiances and the true radiances:"
   ]
  },
  {
   "cell_type": "code",
   "execution_count": null,
   "id": "f434ee39-c62f-4d61-914b-03a8576acd48",
   "metadata": {},
   "outputs": [],
   "source": [
    "fig, ax = plt.subplots(3, 1, figsize=(12,10))\n",
    "ax[0].plot(model_true.band_wl[0], (model_prior.R_band[0] - model_true.R_band[0])/(model_true.R_band[0].max())*100.,label=\"A Priori Residuals\",c='#4daf4a')\n",
    "ax[0].set_xlim(min(model_true.band_wl[0]),max(model_true.band_wl[0]))\n",
    "ax[0].set_title(\"O\"+r'$_2$'+\" A-band\")\n",
    "ax[0].grid(True)\n",
    "ax[0].legend(loc=\"lower right\",fontsize=14)\n",
    "ax[1].plot(model_true.band_wl[1], (model_prior.R_band[1] - model_true.R_band[1])/(model_true.R_band[1].max())*100.,c='#4daf4a')\n",
    "ax[1].set_xlim(min(model_true.band_wl[1]),max(model_true.band_wl[1]))\n",
    "ax[1].set_ylabel('Radiance Residuals (% Relative to Continuum)',size=16)\n",
    "ax[1].set_title(\"CO\"+r'$_2$')\n",
    "ax[1].grid(True)\n",
    "ax[2].plot(model_true.band_wl[2], (model_prior.R_band[2] - model_true.R_band[2])/(model_true.R_band[2].max())*100.,c='#4daf4a')\n",
    "ax[2].set_xlim(min(model_true.band_wl[2]),max(model_true.band_wl[2]))\n",
    "ax[2].set_title(\"CH\"+r'$_4$')\n",
    "ax[2].set_xlabel('Wavelength ['+r'$\\mu m$'+']',size=16)\n",
    "ax[2].grid(True)"
   ]
  },
  {
   "cell_type": "markdown",
   "id": "95120303-e5c4-4ece-aa67-7b309b0da180",
   "metadata": {},
   "source": [
    "#### Set up the retrieval inputs as a dictionary. Prior state vector ($\\mathbf{x}$):\n",
    "\n",
    "*   Multiplicative scaling factor on the a priori CO2 profile, start at 1 (no change).\n",
    "*   Multiplicative scaling factor on the a priori CH4 profile, start at 1 (no change).\n",
    "*   Additive scaling factor on the a priori temperature profile, start at 0 (no change).\n",
    "*   Multiplicative scaling factor on the a prior pressure profile, start at 1 (no change).\n",
    "*   Multiplicative scaling factor on the a priori specific humidity profile, start at 1 (no change).\n",
    "*   Band 1 albedo (start at a priori)\n",
    "*   Band 2 albedo (start at a priori)\n",
    "*   Band 3 albedo (start at a priori)\n",
    "*   Aerosol optical depth (start at a priori)"
   ]
  },
  {
   "cell_type": "code",
   "execution_count": null,
   "id": "aad152dc-ee60-4e85-81fc-cd5d556e2a2e",
   "metadata": {},
   "outputs": [],
   "source": [
    "x = {}\n",
    "x[\"prior\"] = np.array([\n",
    "  1, #Multiplicative scaling factor on the prior CO2 profile, start at 1 (no change).\n",
    "  1, #Multiplicative scaling factor on the prior CH4 profile, start at 1 (no change).\n",
    "  0, #Additive scaling factor on the prior temperature profile, start at 0 (no change).\n",
    "  1, #Multiplicative scaling factor on the prior pressure profile, start at 1 (no change).\n",
    "  1, #Multiplicative scaling factor on the prior specific humidity profile, start at 1 (no change).\n",
    "  model_prior.albedo[0], #Band 1 albedo (start at prior)\n",
    "  model_prior.albedo[1], #Band 2 albedo (start at prior)\n",
    "  model_prior.albedo[2]]) #Band 3 albedo (start at prior)\n",
    "x[\"names\"] = [\"CO2 Profile Scale Factor\",\"CH4 Profile Scale Factor\", \"Temperature Profile Additive Offset\",\"Pressure Profile Scale Factor\",\"Specific Humidity Profile Scale Factor\",\"Albedo Band 1\",\"Albedo Band 2\",\"Albedo Band 3\"]\n",
    "x[\"true\"] = np.array([model_true.co2[0]/model_prior.co2[0], model_true.ch4[0]/model_prior.ch4[0], model_true.T[0] - model_prior.T[0], model_true.p[0]/model_prior.p[0], model_true.q[0]/model_prior.q[0], model_true.albedo[0], model_true.albedo[1], model_true.albedo[2]]) # Calculate the true state vector values\n",
    "x[\"S_prior\"] = s.S_prior"
   ]
  },
  {
   "cell_type": "markdown",
   "id": "830c11b4-c461-4668-af75-bf90b610c72c",
   "metadata": {},
   "source": [
    "#### Run the retrieval:"
   ]
  },
  {
   "cell_type": "code",
   "execution_count": null,
   "id": "2be2e4bf-7687-478a-9b78-35dd67d77c09",
   "metadata": {},
   "outputs": [],
   "source": [
    "ret = Retrieval()\n",
    "ret.run(x, model_prior, model_true, absco_data)"
   ]
  },
  {
   "cell_type": "markdown",
   "id": "85ba49f4-38b0-40de-a27a-eaec03ebf616",
   "metadata": {},
   "source": [
    "#### Get the radiances of the retrieved state for plotting:"
   ]
  },
  {
   "cell_type": "code",
   "execution_count": null,
   "id": "f58008bd-5630-400a-a06a-81ed65aa4d85",
   "metadata": {},
   "outputs": [],
   "source": [
    "model_ret = Retrieval.forward_model(ret, x, model_prior, absco_data, jacobians=True)"
   ]
  },
  {
   "cell_type": "markdown",
   "id": "a8fdf6b3-0fa6-4ebe-be4b-91254e47540f",
   "metadata": {},
   "source": [
    "#### Plot the residuals between the posterior modeled radiances and the true radiances:"
   ]
  },
  {
   "cell_type": "code",
   "execution_count": null,
   "id": "303274af-50ff-4203-a836-9c172ac95c56",
   "metadata": {},
   "outputs": [],
   "source": [
    "fig, ax = plt.subplots(3, 1, figsize=(12,10))\n",
    "#ax[0].plot(model_true.band_wl[0], (model_prior.R_band[0] - model_true.R_band[0])/(model_true.R_band[0].max())*100.,c='#4daf4a')\n",
    "ax[0].plot(model_true.band_wl[0], (model_ret.R_band[0] - model_true.R_band[0])/(model_true.R_band[0].max())*100.,c='#984ea3')\n",
    "ax[0].set_xlim(min(model_true.band_wl[0]),max(model_true.band_wl[0]))\n",
    "ax[0].set_title(\"O\"+r'$_2$'+\" A-band\")\n",
    "ax[0].grid(True)\n",
    "#ax[1].plot(model_true.band_wl[1], (model_prior.R_band[1] - model_true.R_band[1])/(model_true.R_band[1].max())*100.,label=\"A Priori Residuals\",c='#4daf4a')\n",
    "ax[1].plot(model_true.band_wl[1], (model_ret.R_band[1] - model_true.R_band[1])/(model_true.R_band[1].max())*100.,label=\"A Posteriori Residuals\",c='#984ea3')\n",
    "ax[1].set_xlim(min(model_true.band_wl[1]),max(model_true.band_wl[1]))\n",
    "ax[1].set_ylabel('Radiance Residuals (% Relative to Continuum)',size=16)\n",
    "ax[1].set_title(\"CO\"+r'$_2$')\n",
    "ax[1].grid(True)\n",
    "ax[1].legend(loc=\"center right\",fontsize=14)\n",
    "#ax[2].plot(model_true.band_wl[2], (model_prior.R_band[2] - model_true.R_band[2])/(model_true.R_band[2].max())*100.,c='#4daf4a')\n",
    "ax[2].plot(model_true.band_wl[2], (model_ret.R_band[2] - model_true.R_band[2])/(model_true.R_band[2].max())*100.,c='#984ea3')\n",
    "ax[2].set_xlim(min(model_true.band_wl[2]),max(model_true.band_wl[2]))\n",
    "ax[2].set_title(\"CH\"+r'$_4$')\n",
    "ax[2].set_xlabel('Wavelength ['+r'$\\mu m$'+']',size=16)\n",
    "ax[2].grid(True)"
   ]
  },
  {
   "cell_type": "markdown",
   "id": "70c2d20d-997f-4504-875f-a840859c4718",
   "metadata": {},
   "source": [
    "#### Plot the a posteriori correlation matrix:"
   ]
  },
  {
   "cell_type": "code",
   "execution_count": null,
   "id": "192f1f5d-881e-4ea7-9bb8-575d69466748",
   "metadata": {},
   "outputs": [],
   "source": [
    "R = np.zeros((len(x[\"names\"]),len(x[\"names\"])))\n",
    "for i in range(len(x[\"names\"])):\n",
    "  for j in range(len(x[\"names\"])):\n",
    "    if i==j: R[i,j] = 1\n",
    "    else: R[i,j] = ret.S[i,j] / ret.S[i,i]**0.5 / ret.S[j,j]**0.5\n",
    "\n",
    "fig = plt.figure(figsize=(16,8))\n",
    "im1=plt.pcolormesh(R,vmin=-1,vmax=1,cmap=plt.cm.RdBu_r)\n",
    "plt.yticks(ticks=np.linspace(0.5,0.5*len(x[\"names\"])*2-0.5,len(x[\"names\"])),labels=x[\"names\"])\n",
    "plt.xticks(ticks=np.linspace(0.5,0.5*len(x[\"names\"])*2-0.5,len(x[\"names\"])),labels=x[\"names\"], rotation=90)\n",
    "cbar=plt.colorbar()\n",
    "cbar.set_label(\"Correlation\")\n",
    "\n",
    "Eigs = np.linalg.eigvals(R)\n",
    "cond = np.max(Eigs)/np.min(Eigs)\n",
    "print(\"Correlation matrix (R) condition number =\",'{:.3f}'.format(cond))"
   ]
  },
  {
   "cell_type": "markdown",
   "id": "951a15da-412b-4c71-b045-304768929c6f",
   "metadata": {},
   "source": [
    "#### Calculate and plot the averaging kernels for the gases:"
   ]
  },
  {
   "cell_type": "code",
   "execution_count": null,
   "id": "34383179-08ea-444c-a4ee-04bb26be5a9d",
   "metadata": {},
   "outputs": [],
   "source": [
    "#Calculate the gain matrix\n",
    "ret.G = LA.inv((ret.K.T).dot(model_true.Sy_inv).dot(ret.K) + LA.inv(x[\"S_prior\"])).dot(ret.K.T).dot(model_true.Sy_inv)\n",
    "\n",
    "#Calculate the normalized gas averaging kernels\n",
    "ret.Ak_co2_norm = model_prior.xco2 * np.matmul(ret.G[0,:],model_ret.y_co2)/model_ret.h *1e-6\n",
    "ret.Ak_ch4_norm = model_prior.xch4 * np.matmul(ret.G[1,:],model_ret.y_ch4)/model_ret.h *1e-9\n",
    "\n",
    "#Calculate the averaging kernel (A)\n",
    "ret.A = np.identity(len(x[\"names\"])) - np.dot(ret.S,LA.inv(x[\"S_prior\"]))\n",
    "print(\"DOFs for each state vector element:\")\n",
    "for i in range(len(x[\"names\"])):\n",
    "  print(x[\"names\"][i]+\" DOFs = \"+'{:.3f}'.format(np.diagonal(ret.A)[i]))\n",
    "\n",
    "#Plot\n",
    "fig,ax = plt.subplots(1,1,figsize=(10,8))\n",
    "ax.plot(ret.Ak_co2_norm,model_prior.p_layer*x[\"ret\"][3]/100., '-o', label=\"CO\"+r'$_2$')\n",
    "ax.plot(ret.Ak_ch4_norm,model_prior.p_layer*x[\"ret\"][3]/100., '-o', label=\"CH\"+r'$_4$')\n",
    "ax.set_xlabel(\"Normalized Averaging Kernel\",size=16)\n",
    "ax.set_ylabel(\"Pressure [hPa]\",size=16)\n",
    "ax.invert_yaxis()\n",
    "ax.grid(True)\n",
    "ax.legend(loc=\"best\",fontsize=15)"
   ]
  },
  {
   "cell_type": "markdown",
   "id": "fecebc2a",
   "metadata": {},
   "source": [
    "#### Things to ponder for (1):\n",
    "*   What are the Xgas errors? Are they within the posterior uncertainties?\n",
    "*   Is the final chisq close to unity?\n",
    "*   What do the spectral residuals look like?\n",
    "*   Where are the CO2 and CH4 averaging kernels most sensitive?\n",
    "*   What does the posterior correlation matrix look like? Why are certain elements correlated with each other?"
   ]
  },
  {
   "cell_type": "markdown",
   "id": "4e67ca21-4403-4c14-aa9d-3ccabdcd84b9",
   "metadata": {},
   "source": [
    "#### (2) Now add aerosols to the true state but don't retrieve them:"
   ]
  },
  {
   "cell_type": "code",
   "execution_count": null,
   "id": "652e19e8-a56d-4cb4-bcc2-5bd6924c41d9",
   "metadata": {},
   "outputs": [],
   "source": [
    "#Calculate Mie scattering\n",
    "P_aerosol, ssa_aerosol, qext_aerosol = mie_phase_function()\n",
    "\n",
    "model_true_with_aerosols = ForwardFunction(\n",
    "    absco_data=absco_data,\n",
    "    P_aerosol=P_aerosol,\n",
    "    ssa_aerosol=ssa_aerosol,\n",
    "    qext_aerosol=qext_aerosol,\n",
    "    measurement_error=True,\n",
    "    tau_aerosol=0.10\n",
    "    )\n",
    "\n",
    "model_prior = ForwardFunction(\n",
    "    absco_data=absco_data,\n",
    "    co2=s.co2_prior,\n",
    "    ch4=s.ch4_prior,\n",
    "    T=s.T_prior,\n",
    "    p=s.p_prior,\n",
    "    q=s.q_prior,\n",
    "    albedo=s.albedo_prior,\n",
    "    tau_aerosol=None\n",
    "    )\n",
    "\n",
    "#Just copy the initial state vector\n",
    "x_true_aerosols = {}\n",
    "x_true_aerosols[\"prior\"] = deepcopy(x[\"prior\"])\n",
    "x_true_aerosols[\"names\"] = deepcopy(x[\"names\"])\n",
    "x_true_aerosols[\"true\"] = deepcopy(x[\"true\"])\n",
    "x_true_aerosols[\"S_prior\"] = deepcopy(x[\"S_prior\"])\n",
    "\n",
    "#Pass our prior without aerosols, but the true state with aerosols\n",
    "ret_true_aerosols = Retrieval()\n",
    "ret_true_aerosols.run(x_true_aerosols, model_prior, model_true_with_aerosols, absco_data)\n",
    "\n",
    "#Grab the radiances of the retrieved state for plotting\n",
    "model_ret_true_aerosols = Retrieval.forward_model(ret_true_aerosols, x_true_aerosols, model_prior, absco_data, jacobians=True)"
   ]
  },
  {
   "cell_type": "markdown",
   "id": "4e5c9f5b-b265-466a-ada2-c72883ca3f9c",
   "metadata": {},
   "source": [
    "#### Plot the residuals between the posterior modeled radiances and the true radiances:"
   ]
  },
  {
   "cell_type": "code",
   "execution_count": null,
   "id": "6f53b25a-74d9-4677-868d-cf54651f8a1e",
   "metadata": {},
   "outputs": [],
   "source": [
    "fig, ax = plt.subplots(3, 1, figsize=(12,10))\n",
    "#ax[0].plot(model_true_with_aerosols.band_wl[0], (model_prior.R_band[0] - model_true_with_aerosols.R_band[0])/(model_true_with_aerosols.R_band[0].max())*100.,c='#e41a1c')\n",
    "ax[0].plot(model_true_with_aerosols.band_wl[0], (model_ret_true_aerosols.R_band[0] - model_true_with_aerosols.R_band[0])/(model_true_with_aerosols.R_band[0].max())*100.,c='#ff7f00')\n",
    "ax[0].set_xlim(min(model_true_with_aerosols.band_wl[0]),max(model_true_with_aerosols.band_wl[0]))\n",
    "ax[0].set_title(\"O\"+r'$_2$'+\" A-band\")\n",
    "ax[0].grid(True)\n",
    "#ax[1].plot(model_true_with_aerosols.band_wl[1], (model_prior.R_band[1] - model_true_with_aerosols.R_band[1])/(model_true_with_aerosols.R_band[1].max())*100.,label=\"A Priori Residuals\",c='#e41a1c')\n",
    "ax[1].plot(model_true_with_aerosols.band_wl[1], (model_ret_true_aerosols.R_band[1] - model_true_with_aerosols.R_band[1])/(model_true_with_aerosols.R_band[1].max())*100.,label=\"A Posteriori Residuals (True Aerosols)\",c='#ff7f00')\n",
    "ax[1].set_xlim(min(model_true_with_aerosols.band_wl[1]),max(model_true_with_aerosols.band_wl[1]))\n",
    "ax[1].set_ylabel('Radiance Residuals (% Relative to Continuum)',size=16)\n",
    "ax[1].set_title(\"CO\"+r'$_2$')\n",
    "ax[1].grid(True)\n",
    "ax[1].legend(loc=\"center right\",fontsize=14)\n",
    "#ax[2].plot(model_true_with_aerosols.band_wl[2], (model_prior.R_band[2] - model_true_with_aerosols.R_band[2])/(model_true_with_aerosols.R_band[2].max())*100.,c='#e41a1c')\n",
    "ax[2].plot(model_true_with_aerosols.band_wl[2], (model_ret_true_aerosols.R_band[2] - model_true_with_aerosols.R_band[2])/(model_true_with_aerosols.R_band[2].max())*100.,c='#ff7f00')\n",
    "ax[2].set_xlim(min(model_true_with_aerosols.band_wl[2]),max(model_true_with_aerosols.band_wl[2]))\n",
    "ax[2].set_title(\"CH\"+r'$_4$')\n",
    "ax[2].set_xlabel('Wavelength ['+r'$\\mu m$'+']',size=16)\n",
    "ax[2].grid(True)"
   ]
  },
  {
   "cell_type": "markdown",
   "id": "2072aeec-7c3d-4ac6-b23c-864f2341512e",
   "metadata": {},
   "source": [
    "#### Plot the a posteriori correlation matrix:"
   ]
  },
  {
   "cell_type": "code",
   "execution_count": null,
   "id": "f9925bb0-12ed-4baf-af6a-bfb0265afd67",
   "metadata": {},
   "outputs": [],
   "source": [
    "R_true_aerosols = np.zeros((len(x_true_aerosols[\"names\"]),len(x_true_aerosols[\"names\"])))\n",
    "for i in range(len(x_true_aerosols[\"names\"])):\n",
    "  for j in range(len(x_true_aerosols[\"names\"])):\n",
    "    if i==j: R_true_aerosols[i,j] = 1\n",
    "    else: R_true_aerosols[i,j] = ret_true_aerosols.S[i,j] / ret_true_aerosols.S[i,i]**0.5 / ret_true_aerosols.S[j,j]**0.5\n",
    "\n",
    "fig = plt.figure(figsize=(16,8))\n",
    "im1=plt.pcolormesh(R_true_aerosols,vmin=-1,vmax=1,cmap=plt.cm.RdBu_r)\n",
    "plt.yticks(ticks=np.linspace(0.5,0.5*len(x_true_aerosols[\"names\"])*2-0.5,len(x_true_aerosols[\"names\"])),labels=x_true_aerosols[\"names\"])\n",
    "plt.xticks(ticks=np.linspace(0.5,0.5*len(x_true_aerosols[\"names\"])*2-0.5,len(x_true_aerosols[\"names\"])),labels=x_true_aerosols[\"names\"], rotation=90)\n",
    "cbar=plt.colorbar()\n",
    "cbar.set_label(\"Correlation\")\n",
    "\n",
    "Eigs_true_aerosols = np.linalg.eigvals(R_true_aerosols)\n",
    "cond_true_aerosols = np.max(Eigs_true_aerosols)/np.min(Eigs_true_aerosols)\n",
    "print(\"Correlation matrix (R) condition number = \",'{:.3f}'.format(cond_true_aerosols))"
   ]
  },
  {
   "cell_type": "markdown",
   "id": "0cf14860-b139-4451-bec9-b1e999efd583",
   "metadata": {},
   "source": [
    "#### Calculate and plot the averaging kernels for the gases:"
   ]
  },
  {
   "cell_type": "code",
   "execution_count": null,
   "id": "721c6657-62d3-40ea-9f65-fd634a119ec2",
   "metadata": {},
   "outputs": [],
   "source": [
    "#Calculate the gain matrix\n",
    "ret_true_aerosols.G = LA.inv((ret_true_aerosols.K.T).dot(model_true_with_aerosols.Sy_inv).dot(ret_true_aerosols.K) + LA.inv(x_true_aerosols[\"S_prior\"])).dot(ret_true_aerosols.K.T).dot(model_true_with_aerosols.Sy_inv)\n",
    "\n",
    "#Calculate the averaging kernel (A)\n",
    "ret_true_aerosols.A = np.identity(len(x_true_aerosols[\"names\"])) - np.dot(ret_true_aerosols.S,LA.inv(x_true_aerosols[\"S_prior\"]))\n",
    "print(\"DOFs for each state vector element:\")\n",
    "for i in range(len(x_true_aerosols[\"names\"])):\n",
    "  print(x_true_aerosols[\"names\"][i]+\" DOFs = \"+'{:.3f}'.format(np.diagonal(ret_true_aerosols.A)[i]))\n",
    "\n",
    "#Calculate the normalized gas averaging kernels\n",
    "ret_true_aerosols.Ak_co2_norm = model_prior.xco2 * np.matmul(ret_true_aerosols.G[0,:],model_ret_true_aerosols.y_co2)/model_ret_true_aerosols.h *1e-6\n",
    "ret_true_aerosols.Ak_ch4_norm = model_prior.xch4 * np.matmul(ret_true_aerosols.G[1,:],model_ret_true_aerosols.y_ch4)/model_ret_true_aerosols.h *1e-9\n",
    "\n",
    "#Plot\n",
    "fig,ax = plt.subplots(1,1,figsize=(10,8))\n",
    "ax.plot(ret_true_aerosols.Ak_co2_norm,model_prior.p_layer*x_true_aerosols[\"ret\"][3]/100.,label=\"CO\"+r'$_2$')\n",
    "ax.plot(ret_true_aerosols.Ak_ch4_norm,model_prior.p_layer*x_true_aerosols[\"ret\"][3]/100.,label=\"CH\"+r'$_4$')\n",
    "ax.set_xlabel(\"Normalized Averaging Kernel\",size=16)\n",
    "ax.set_ylabel(\"Pressure [hPa]\",size=16)\n",
    "ax.invert_yaxis()\n",
    "ax.grid(True)\n",
    "ax.legend(loc=\"upper right\",fontsize=15)"
   ]
  },
  {
   "cell_type": "markdown",
   "id": "94b26f1c",
   "metadata": {},
   "source": [
    "#### Things to ponder for (2):\n",
    "*   What are the Xgas errors? Are they better or worse than (1)?\n",
    "*   Is the final chisq close to unity?\n",
    "*   What do the spectral residuals look like?\n",
    "*   What do the retrieved state vector elements look like (e.g., albedo)?"
   ]
  },
  {
   "cell_type": "markdown",
   "id": "c28ef982-66be-4ef0-8ebd-390197502082",
   "metadata": {},
   "source": [
    "#### (3) Now also retrieve aerosols:"
   ]
  },
  {
   "cell_type": "code",
   "execution_count": null,
   "id": "01bad0c4-0a53-4079-be83-1d72776e321e",
   "metadata": {},
   "outputs": [],
   "source": [
    "model_prior_with_aerosols = ForwardFunction(\n",
    "    absco_data=absco_data,\n",
    "    P_aerosol=P_aerosol,\n",
    "    ssa_aerosol=ssa_aerosol,\n",
    "    qext_aerosol=qext_aerosol,\n",
    "    co2=s.co2_prior,\n",
    "    ch4=s.ch4_prior,\n",
    "    T=s.T_prior,\n",
    "    p=s.p_prior,\n",
    "    q=s.q_prior,\n",
    "    albedo=s.albedo_prior,\n",
    "    tau_aerosol=s.tau_aerosol_prior\n",
    "    )\n",
    "\n",
    "#Add a tau_aerosol element to the state vector\n",
    "x_true_aerosols_ret_aerosols = {}\n",
    "x_true_aerosols_ret_aerosols[\"prior\"] = np.append(x[\"prior\"],model_prior_with_aerosols.tau_aerosol)\n",
    "x_true_aerosols_ret_aerosols[\"names\"] = deepcopy(x[\"names\"])+[\"Aerosol Optical Depth\"]\n",
    "x_true_aerosols_ret_aerosols[\"true\"] = np.append(x[\"true\"],model_true_with_aerosols.tau_aerosol)\n",
    "x_true_aerosols_ret_aerosols[\"S_prior\"] = np.zeros((len(x[\"names\"])+1,len(x[\"names\"])+1))\n",
    "x_true_aerosols_ret_aerosols[\"S_prior\"][:len(x[\"names\"]),:len(x[\"names\"])] = deepcopy(x[\"S_prior\"])\n",
    "x_true_aerosols_ret_aerosols[\"S_prior\"][len(x[\"names\"]),len(x[\"names\"])] = s.tau_aerosol_prior_uncert**2\n",
    "\n",
    "ret_true_aerosols_ret_aerosols = Retrieval()\n",
    "ret_true_aerosols_ret_aerosols.run(x_true_aerosols_ret_aerosols, model_prior_with_aerosols, model_true_with_aerosols, absco_data)\n",
    "\n",
    "#Grab the radiances of the retrieved state for plotting\n",
    "model_ret_true_aerosols_ret_aerosols = Retrieval.forward_model(ret_true_aerosols_ret_aerosols, x_true_aerosols_ret_aerosols, model_prior_with_aerosols, absco_data, jacobians=True)"
   ]
  },
  {
   "cell_type": "markdown",
   "id": "5104cf4a-58ff-43fa-bd4b-54108e4d5376",
   "metadata": {},
   "source": [
    "#### Plot the residuals between the posterior modeled radiances and the true radiances"
   ]
  },
  {
   "cell_type": "code",
   "execution_count": null,
   "id": "4e84c98a-b88f-4f27-8893-328f6c1d076e",
   "metadata": {},
   "outputs": [],
   "source": [
    "fig, ax = plt.subplots(3, 1, figsize=(12,10))\n",
    "#ax[0].plot(model_true_with_aerosols.band_wl[0], (model_prior_with_aerosols.R_band[0] - model_true_with_aerosols.R_band[0])/(model_true_with_aerosols.R_band[0].max())*100.,c='#f781bf')\n",
    "ax[0].plot(model_true_with_aerosols.band_wl[0], (model_ret_true_aerosols_ret_aerosols.R_band[0] - model_true_with_aerosols.R_band[0])/(model_true_with_aerosols.R_band[0].max())*100.,c='#a65628')\n",
    "ax[0].set_xlim(min(model_true_with_aerosols.band_wl[0]),max(model_true_with_aerosols.band_wl[0]))\n",
    "ax[0].set_title(\"O\"+r'$_2$'+\" A-band\")\n",
    "ax[0].grid(True)\n",
    "#ax[1].plot(model_true_with_aerosols.band_wl[1], (model_prior_with_aerosols.R_band[1] - model_true_with_aerosols.R_band[1])/(model_true_with_aerosols.R_band[1].max())*100.,label=\"A Priori Residuals\",c='#f781bf')\n",
    "ax[1].plot(model_true_with_aerosols.band_wl[1], (model_ret_true_aerosols_ret_aerosols.R_band[1] - model_true_with_aerosols.R_band[1])/(model_true_with_aerosols.R_band[1].max())*100.,label=\"A Posteriori Residuals (True & Ret. Aerosols)\",c='#a65628')\n",
    "ax[1].set_xlim(min(model_true_with_aerosols.band_wl[1]),max(model_true_with_aerosols.band_wl[1]))\n",
    "ax[1].set_ylabel('Radiance Residuals (% Relative to Continuum)',size=16)\n",
    "ax[1].set_title(\"CO\"+r'$_2$')\n",
    "ax[1].grid(True)\n",
    "ax[1].legend(loc=\"center right\",fontsize=14)\n",
    "#ax[2].plot(model_true_with_aerosols.band_wl[2], (model_prior_with_aerosols.R_band[2] - model_true_with_aerosols.R_band[2])/(model_true_with_aerosols.R_band[2].max())*100.,c='#f781bf')\n",
    "ax[2].plot(model_true_with_aerosols.band_wl[2], (model_ret_true_aerosols_ret_aerosols.R_band[2] - model_true_with_aerosols.R_band[2])/(model_true_with_aerosols.R_band[2].max())*100.,c='#a65628')\n",
    "ax[2].set_xlim(min(model_true_with_aerosols.band_wl[2]),max(model_true_with_aerosols.band_wl[2]))\n",
    "ax[2].set_title(\"CH\"+r'$_4$')\n",
    "ax[2].set_xlabel('Wavelength ['+r'$\\mu m$'+']',size=16)\n",
    "ax[2].grid(True)"
   ]
  },
  {
   "cell_type": "markdown",
   "id": "99f5e454-6760-499c-b102-fda3ed3b0b51",
   "metadata": {},
   "source": [
    "#### Plot the posterior correlation matrix:"
   ]
  },
  {
   "cell_type": "code",
   "execution_count": null,
   "id": "010bd44e-2524-429c-a199-5f1f42353791",
   "metadata": {},
   "outputs": [],
   "source": [
    "R_true_aerosols_ret_aerosols = np.zeros((len(x_true_aerosols_ret_aerosols[\"names\"]),len(x_true_aerosols_ret_aerosols[\"names\"])))\n",
    "for i in range(len(x_true_aerosols_ret_aerosols[\"names\"])):\n",
    "  for j in range(len(x_true_aerosols_ret_aerosols[\"names\"])):\n",
    "    if i==j: R_true_aerosols_ret_aerosols[i,j] = 1\n",
    "    else: R_true_aerosols_ret_aerosols[i,j] = ret_true_aerosols_ret_aerosols.S[i,j] / ret_true_aerosols_ret_aerosols.S[i,i]**0.5 / ret_true_aerosols_ret_aerosols.S[j,j]**0.5\n",
    "\n",
    "fig = plt.figure(figsize=(16,8))\n",
    "im1=plt.pcolormesh(R_true_aerosols_ret_aerosols,vmin=-1,vmax=1,cmap=plt.cm.RdBu_r)\n",
    "plt.yticks(ticks=np.linspace(0.5,0.5*len(x_true_aerosols_ret_aerosols[\"names\"])*2-0.5,len(x_true_aerosols_ret_aerosols[\"names\"])),labels=x_true_aerosols_ret_aerosols[\"names\"])\n",
    "plt.xticks(ticks=np.linspace(0.5,0.5*len(x_true_aerosols_ret_aerosols[\"names\"])*2-0.5,len(x_true_aerosols_ret_aerosols[\"names\"])),labels=x_true_aerosols_ret_aerosols[\"names\"], rotation=90)\n",
    "cbar=plt.colorbar()\n",
    "cbar.set_label(\"Correlation\")\n",
    "\n",
    "Eigs_true_aerosols_ret_aerosols = np.linalg.eigvals(R_true_aerosols_ret_aerosols)\n",
    "cond_true_aerosols_ret_aerosols = np.max(Eigs_true_aerosols_ret_aerosols)/np.min(Eigs_true_aerosols_ret_aerosols)\n",
    "print(\"Correlation matrix (R) condition number = \",'{:.3f}'.format(cond_true_aerosols_ret_aerosols))"
   ]
  },
  {
   "cell_type": "markdown",
   "id": "a1bfeff5-906b-4fc7-9c53-8556e5125977",
   "metadata": {},
   "source": [
    "#### Calculate and plot the averaging kernels for the gases:"
   ]
  },
  {
   "cell_type": "code",
   "execution_count": null,
   "id": "555c490b-5dec-433d-b295-f48be19a0686",
   "metadata": {},
   "outputs": [],
   "source": [
    "ret_true_aerosols_ret_aerosols.G = LA.inv((ret_true_aerosols_ret_aerosols.K.T).dot(model_true_with_aerosols.Sy_inv).dot(ret_true_aerosols_ret_aerosols.K) + LA.inv(x_true_aerosols_ret_aerosols[\"S_prior\"])).dot(ret_true_aerosols_ret_aerosols.K.T).dot(model_true_with_aerosols.Sy_inv)\n",
    "\n",
    "#Calculate the averaging kernel (A)\n",
    "ret_true_aerosols_ret_aerosols.A = np.identity(len(x_true_aerosols_ret_aerosols[\"names\"])) - np.dot(ret_true_aerosols_ret_aerosols.S,LA.inv(x_true_aerosols_ret_aerosols[\"S_prior\"]))\n",
    "print(\"DOFs for each state vector element:\")\n",
    "for i in range(len(x_true_aerosols_ret_aerosols[\"names\"])):\n",
    "  print(x_true_aerosols_ret_aerosols[\"names\"][i]+\" DOFs = \"+'{:.3f}'.format(np.diagonal(ret_true_aerosols_ret_aerosols.A)[i]))\n",
    "\n",
    "#Calculate the normalized gas averaging kernels\n",
    "ret_true_aerosols_ret_aerosols.Ak_co2_norm = model_prior_with_aerosols.xco2 * np.matmul(ret_true_aerosols_ret_aerosols.G[0,:],model_ret_true_aerosols_ret_aerosols.y_co2)/model_ret_true_aerosols_ret_aerosols.h *1e-6\n",
    "ret_true_aerosols_ret_aerosols.Ak_ch4_norm = model_prior_with_aerosols.xch4 * np.matmul(ret_true_aerosols_ret_aerosols.G[1,:],model_ret_true_aerosols_ret_aerosols.y_ch4)/model_ret_true_aerosols_ret_aerosols.h *1e-9\n",
    "\n",
    "#Plot\n",
    "fig,ax = plt.subplots(1,1,figsize=(10,8))\n",
    "ax.plot(ret_true_aerosols_ret_aerosols.Ak_co2_norm,model_prior_with_aerosols.p_layer*x_true_aerosols_ret_aerosols[\"ret\"][3]/100.,'-o',label=\"CO\"+r'$_2$')\n",
    "ax.plot(ret_true_aerosols_ret_aerosols.Ak_ch4_norm,model_prior_with_aerosols.p_layer*x_true_aerosols_ret_aerosols[\"ret\"][3]/100.,'-o',label=\"CH\"+r'$_4$')\n",
    "ax.set_xlabel(\"Normalized Averaging Kernel\",size=16)\n",
    "ax.set_ylabel(\"Pressure [hPa]\",size=16)\n",
    "ax.invert_yaxis()\n",
    "ax.grid(True)\n",
    "ax.legend(loc=\"upper right\",fontsize=15)"
   ]
  },
  {
   "cell_type": "markdown",
   "id": "7d561ed4",
   "metadata": {},
   "source": [
    "#### Things to ponder for (3):\n",
    "*   What are the Xgas errors? Are they better or worse than (1,2)?\n",
    "*   Is the final chisq close to unity?\n",
    "*   Have the spectral residuals changed relative to (2)?\n",
    "*   What do the retrieved state vector elements look like (e.g., albedo)?\n",
    "*   What's going on with the posterior correlation matrix?\n",
    "*   Have the AKs changed?"
   ]
  },
  {
   "cell_type": "markdown",
   "id": "498c4e84-9147-430b-ae83-bba50e3bf3a4",
   "metadata": {},
   "source": [
    "#### (4) Now do a retrieval, but try to retrieve a different aerosol type:"
   ]
  },
  {
   "cell_type": "code",
   "execution_count": null,
   "id": "6de35072-ef00-493e-a8ce-2d7a13d7428b",
   "metadata": {},
   "outputs": [],
   "source": [
    "P_aerosol_dust, ssa_aerosol_dust, qext_aerosol_dust = mie_phase_function(d_aerosol=6e-6,n_aerosol=1.5+0.0006j)\n",
    "\n",
    "model_prior_wrong_aerosol = ForwardFunction(\n",
    "    absco_data=absco_data,\n",
    "    P_aerosol=P_aerosol_dust, #Wrong aerosol\n",
    "    ssa_aerosol=ssa_aerosol_dust, #Wrong aerosol\n",
    "    qext_aerosol=qext_aerosol_dust, #Wrong aerosol\n",
    "    co2=s.co2_prior,\n",
    "    ch4=s.ch4_prior,\n",
    "    T=s.T_prior,\n",
    "    p=s.p_prior,\n",
    "    q=s.q_prior,\n",
    "    albedo=s.albedo_prior,\n",
    "    tau_aerosol=s.tau_aerosol_prior\n",
    "    )\n",
    "\n",
    "x_wrong_aerosol = {}\n",
    "x_wrong_aerosol[\"prior\"] = deepcopy(x_true_aerosols_ret_aerosols[\"prior\"])\n",
    "x_wrong_aerosol[\"names\"] = deepcopy(x_true_aerosols_ret_aerosols[\"names\"])\n",
    "x_wrong_aerosol[\"true\"] = deepcopy(x_true_aerosols_ret_aerosols[\"true\"])\n",
    "x_wrong_aerosol[\"S_prior\"] = deepcopy(x_true_aerosols_ret_aerosols[\"S_prior\"])\n",
    "\n",
    "ret_wrong_aerosol = Retrieval()\n",
    "ret_wrong_aerosol.run(x_wrong_aerosol, model_prior_wrong_aerosol, model_true_with_aerosols, absco_data)\n",
    "\n",
    "#Grab the radiances of the retrieved state for plotting\n",
    "model_ret_wrong_aerosol = Retrieval.forward_model(ret_wrong_aerosol, x_wrong_aerosol, model_prior_wrong_aerosol, absco_data)"
   ]
  },
  {
   "cell_type": "markdown",
   "id": "04c9cc0a-ad52-4311-953c-6b6a23c5fbdd",
   "metadata": {},
   "source": [
    "#### Plot the residuals between the posterior modeled radiances and the true radiances:"
   ]
  },
  {
   "cell_type": "code",
   "execution_count": null,
   "id": "bb4a1891-ceda-470a-8a70-ecf3e97b9059",
   "metadata": {},
   "outputs": [],
   "source": [
    "fig, ax = plt.subplots(3, 1, figsize=(12,10))\n",
    "#ax[0].plot(model_true_with_aerosols.band_wl[0], (model_prior_wrong_aerosol.R_band[0] - model_true_with_aerosols.R_band[0])/(model_true_with_aerosols.R_band[0].max())*100.,c='#377eb8')\n",
    "ax[0].plot(model_true_with_aerosols.band_wl[0], (model_ret_wrong_aerosol.R_band[0] - model_true_with_aerosols.R_band[0])/(model_true_with_aerosols.R_band[0].max())*100.,c='#4daf4a')\n",
    "ax[0].set_xlim(min(model_true_with_aerosols.band_wl[0]),max(model_true_with_aerosols.band_wl[0]))\n",
    "ax[0].set_title(\"O\"+r'$_2$'+\" A-band\")\n",
    "ax[0].grid(True)\n",
    "#ax[1].plot(model_true_with_aerosols.band_wl[1], (model_prior_wrong_aerosol.R_band[1] - model_true_with_aerosols.R_band[1])/(model_true_with_aerosols.R_band[1].max())*100.,label=\"A Priori Residuals\",c='#377eb8')\n",
    "ax[1].plot(model_true_with_aerosols.band_wl[1], (model_ret_wrong_aerosol.R_band[1] - model_true_with_aerosols.R_band[1])/(model_true_with_aerosols.R_band[1].max())*100.,label=\"A Posteriori Residuals (Wrong Aerosol)\",c='#4daf4a')\n",
    "ax[1].set_xlim(min(model_true_with_aerosols.band_wl[1]),max(model_true_with_aerosols.band_wl[1]))\n",
    "ax[1].set_ylabel('Radiance Residuals (% Relative to Continuum)',size=16)\n",
    "ax[1].set_title(\"CO\"+r'$_2$')\n",
    "ax[1].grid(True)\n",
    "ax[1].legend(loc=\"center right\",fontsize=14)\n",
    "#ax[2].plot(model_true_with_aerosols.band_wl[2], (model_prior_wrong_aerosol.R_band[2] - model_true_with_aerosols.R_band[2])/(model_true_with_aerosols.R_band[2].max())*100.,c='#377eb8')\n",
    "ax[2].plot(model_true_with_aerosols.band_wl[2], (model_ret_wrong_aerosol.R_band[2] - model_true_with_aerosols.R_band[2])/(model_true_with_aerosols.R_band[2].max())*100.,c='#4daf4a')\n",
    "ax[2].set_xlim(min(model_true_with_aerosols.band_wl[2]),max(model_true_with_aerosols.band_wl[2]))\n",
    "ax[2].set_title(\"CH\"+r'$_4$')\n",
    "ax[2].set_xlabel('Wavelength ['+r'$\\mu m$'+']',size=16)\n",
    "ax[2].grid(True)"
   ]
  },
  {
   "cell_type": "markdown",
   "id": "18462a8d",
   "metadata": {},
   "source": [
    "#### Things to ponder for (4):\n",
    "*   What are the Xgas errors? Are they better or worse than previous tests?\n",
    "*   Is the final chisq close to unity?\n",
    "*   What do the spectral residuals look like?\n",
    "*   What do the retrieved state vector elements look like (e.g., tau_aerosol, albedo)?"
   ]
  },
  {
   "cell_type": "markdown",
   "id": "4fc8344d-8c31-4c81-8ab0-95a0b1a65e1d",
   "metadata": {},
   "source": [
    "#### (5) Now do a retrieval, but have the prior aerosol height be wrong:"
   ]
  },
  {
   "cell_type": "code",
   "execution_count": null,
   "id": "25fa8423-3ba0-4c00-898f-819a5c785504",
   "metadata": {},
   "outputs": [],
   "source": [
    "model_prior_wrong_height = ForwardFunction(\n",
    "    absco_data=absco_data,\n",
    "    P_aerosol=P_aerosol,\n",
    "    ssa_aerosol=ssa_aerosol,\n",
    "    qext_aerosol=qext_aerosol,\n",
    "    co2=s.co2_prior,\n",
    "    ch4=s.ch4_prior,\n",
    "    T=s.T_prior,\n",
    "    p=s.p_prior,\n",
    "    q=s.q_prior,\n",
    "    albedo=s.albedo_prior,\n",
    "    tau_aerosol=s.tau_aerosol_prior,\n",
    "    height_aerosol=10000 #Wrong aerosol height\n",
    "    )\n",
    "\n",
    "x_wrong_height = {}\n",
    "x_wrong_height[\"prior\"] = deepcopy(x_true_aerosols_ret_aerosols[\"prior\"])\n",
    "x_wrong_height[\"names\"] = deepcopy(x_true_aerosols_ret_aerosols[\"names\"])\n",
    "x_wrong_height[\"true\"] = deepcopy(x_true_aerosols_ret_aerosols[\"true\"])\n",
    "x_wrong_height[\"S_prior\"] = deepcopy(x_true_aerosols_ret_aerosols[\"S_prior\"])\n",
    "\n",
    "ret_wrong_height = Retrieval()\n",
    "ret_wrong_height.run(x_wrong_height, model_prior_wrong_height, model_true_with_aerosols, absco_data)\n",
    "\n",
    "#Grab the radiances of the retrieved state for plotting\n",
    "model_ret_wrong_height = Retrieval.forward_model(ret_wrong_height, x_wrong_height, model_prior_wrong_height, absco_data)"
   ]
  },
  {
   "cell_type": "markdown",
   "id": "f939e786-fbbe-4936-b7e2-1c09b6f64ad1",
   "metadata": {},
   "source": [
    "#### Plot the residuals between the posterior modeled radiances and the true radiances:"
   ]
  },
  {
   "cell_type": "code",
   "execution_count": null,
   "id": "4f1f91cb-64d1-4b4d-924f-ea28ff8ba31e",
   "metadata": {},
   "outputs": [],
   "source": [
    "fig, ax = plt.subplots(3, 1, figsize=(12,10))\n",
    "#ax[0].plot(model_true_with_aerosols.band_wl[0], (model_prior_wrong_height.R_band[0] - model_true_with_aerosols.R_band[0])/(model_true_with_aerosols.R_band[0].max())*100.,c='#377eb8')\n",
    "ax[0].plot(model_true_with_aerosols.band_wl[0], (model_ret_wrong_height.R_band[0] - model_true_with_aerosols.R_band[0])/(model_true_with_aerosols.R_band[0].max())*100.,c='#984ea3')\n",
    "ax[0].set_xlim(min(model_true_with_aerosols.band_wl[0]),max(model_true_with_aerosols.band_wl[0]))\n",
    "ax[0].set_title(\"O\"+r'$_2$'+\" A-band\")\n",
    "ax[0].grid(True)\n",
    "#ax[1].plot(model_true_with_aerosols.band_wl[1], (model_prior_wrong_height.R_band[1] - model_true_with_aerosols.R_band[1])/(model_true_with_aerosols.R_band[1].max())*100.,label=\"A Priori Residuals\",c='#377eb8')\n",
    "ax[1].plot(model_true_with_aerosols.band_wl[1], (model_ret_wrong_height.R_band[1] - model_true_with_aerosols.R_band[1])/(model_true_with_aerosols.R_band[1].max())*100.,label=\"A Posteriori Residuals (Wrong Height)\",c='#984ea3')\n",
    "ax[1].set_xlim(min(model_true_with_aerosols.band_wl[1]),max(model_true_with_aerosols.band_wl[1]))\n",
    "ax[1].set_ylabel('Radiance Residuals (% Relative to Continuum)',size=16)\n",
    "ax[1].set_title(\"CO\"+r'$_2$')\n",
    "ax[1].grid(True)\n",
    "ax[1].legend(loc=\"center right\",fontsize=14)\n",
    "#ax[2].plot(model_true_with_aerosols.band_wl[2], (model_prior_wrong_height.R_band[2] - model_true_with_aerosols.R_band[2])/(model_true_with_aerosols.R_band[2].max())*100.,c='#377eb8')\n",
    "ax[2].plot(model_true_with_aerosols.band_wl[2], (model_ret_wrong_height.R_band[2] - model_true_with_aerosols.R_band[2])/(model_true_with_aerosols.R_band[2].max())*100.,c='#984ea3')\n",
    "ax[2].set_xlim(min(model_true_with_aerosols.band_wl[2]),max(model_true_with_aerosols.band_wl[2]))\n",
    "ax[2].set_title(\"CH\"+r'$_4$')\n",
    "ax[2].set_xlabel('Wavelength ['+r'$\\mu m$'+']',size=16)\n",
    "ax[2].grid(True)"
   ]
  },
  {
   "cell_type": "markdown",
   "id": "71df728d",
   "metadata": {},
   "source": [
    "#### Things to ponder for (5):\n",
    "*   What are the Xgas errors? Are they better or worse than previous tests?\n",
    "*   How do these results differ from (4)?"
   ]
  },
  {
   "cell_type": "markdown",
   "id": "aa603ff5-83f2-4857-b236-f84ad8d8cd6b",
   "metadata": {},
   "source": [
    "#### (6) Proxy $X_{\\mathrm{CH_4}}$ retrieval:\n",
    "*   Assuming no scattering by aerosols, but make sure the true scene has aerosols!\n",
    "*   Retrieve $N_{\\mathrm{CO_2}}$ using just the CO$_2$ band and retrieve $N_{\\mathrm{CH_4}}$ using just the CH$_4$ band, then calculate $N_{\\mathrm{CO_2}}$/$N_{\\mathrm{CH_4}}$ and multiple by some estimate of the true $X_{\\mathrm{CO_2}}$ to get $X_{\\mathrm{CH_4}}$."
   ]
  },
  {
   "cell_type": "code",
   "execution_count": null,
   "id": "879b2b12-6cff-4811-8785-72638ee3a5a3",
   "metadata": {},
   "outputs": [],
   "source": [
    "model_prior_proxy_co2 = ForwardFunction(\n",
    "    absco_data=absco_data,\n",
    "    P_aerosol=P_aerosol[1:2], #Only the CO2 band\n",
    "    ssa_aerosol=ssa_aerosol[1:2], #Only the CO2 band\n",
    "    qext_aerosol=qext_aerosol[1:2], #Only the CO2 band\n",
    "    co2=s.co2_prior,\n",
    "    ch4=np.zeros(len(s.ch4_prior)),\n",
    "    T=s.T_prior,\n",
    "    p=s.p_prior,\n",
    "    q=s.q_prior,\n",
    "    tau_aerosol=None, #Don't include tau_aerosol\n",
    "    albedo=s.albedo_prior[1:2], #Only the CO2 band\n",
    "    band_min_um=s.band_min_um[1:2], #Only the CO2 band\n",
    "    band_max_um=s.band_max_um[1:2], #Only the CO2 band\n",
    "    band_min_wn=s.band_min_wn[1:2], #Only the CO2 band\n",
    "    band_max_wn=s.band_max_wn[1:2], #Only the CO2 band\n",
    "    band_molecules=s.band_molecules[1:2], #Only the CO2 band\n",
    "    band_spectral_points=s.band_spectral_points[1:2], #Only the CO2 band\n",
    "    band_wn=s.band_wn[1:2], #Only the CO2 band\n",
    "    band_wl=s.band_wl[1:2], #Only the CO2 band\n",
    "    band_absco_res_wn=s.band_absco_res_wn[1:2], #Only the CO2 band\n",
    "    resolving_power_band=s.resolving_power_band[1:2], #Only the CO2 band\n",
    "    sigma_band=s.sigma_band[1:2], #Only the CO2 band\n",
    "    band_wn_index=s.band_wn_index[1:2], #Only the CO2 band\n",
    "    ILS_Gaussian_term=s.ILS_Gaussian_term[1:2], #Only the CO2 band\n",
    "    ILS_Gaussian_term_sum=s.ILS_Gaussian_term_sum[1:2] #Only the CO2 band\n",
    "    )\n",
    "\n",
    "#Copy the original state vector, except only use the CO2 band and don't include tau_aerosol\n",
    "x_proxy_co2 = {}\n",
    "indices = [0,2,3,4,6]\n",
    "x_temp = deepcopy(x)\n",
    "x_proxy_co2[\"prior\"] = np.array([x_temp[\"prior\"][i] for i in indices])\n",
    "x_proxy_co2[\"names\"] = [x_temp[\"names\"][i] for i in indices]\n",
    "x_proxy_co2[\"true\"] = np.array([x_temp[\"true\"][i] for i in indices])\n",
    "x_proxy_co2[\"S_prior\"] = np.array(x_temp[\"S_prior\"][np.ix_(indices,indices)])\n",
    "\n",
    "#Also hack together the true radiances for the CO2 band\n",
    "model_true_proxy_co2 = deepcopy(model_true_with_aerosols)\n",
    "model_true_proxy_co2.y = model_true_proxy_co2.y[model_true_proxy_co2.band_spectral_points[0]:model_true_proxy_co2.band_spectral_points[0]+model_true_proxy_co2.band_spectral_points[1]]\n",
    "model_true_proxy_co2.Sy_inv = model_true_proxy_co2.Sy_inv[model_true_proxy_co2.band_spectral_points[0]:model_true_proxy_co2.band_spectral_points[0]+model_true_proxy_co2.band_spectral_points[1],model_true_proxy_co2.band_spectral_points[0]:model_true_proxy_co2.band_spectral_points[0]+model_true_proxy_co2.band_spectral_points[1]]\n",
    "\n",
    "#Pass our prior without aerosols, but the true state with aerosols\n",
    "ret_proxy_co2 = Retrieval()\n",
    "ret_proxy_co2.run(x_proxy_co2, model_prior_proxy_co2, model_true_proxy_co2, absco_data)\n",
    "\n",
    "#Grab retrieved radiances\n",
    "model_ret_proxy_co2 = Retrieval.forward_model(ret_proxy_co2, x_proxy_co2, model_prior_proxy_co2, absco_data)\n",
    "\n",
    "#Number of dry air molecules per cubic meter (number density)\n",
    "model_ret_proxy_co2.n_dry_air = calculate_n_dry_air(model_ret_proxy_co2.p_diff, model_ret_proxy_co2.q_layer)\n",
    "\n",
    "#Number of CO2 molecules per cubic meter (number density)\n",
    "model_ret_proxy_co2.n_co2 = model_ret_proxy_co2.n_dry_air * model_ret_proxy_co2.co2_layer"
   ]
  },
  {
   "cell_type": "markdown",
   "id": "97e6d62c-21ed-46ab-a504-d26883eb0c0c",
   "metadata": {},
   "source": [
    "#### Then, do the $\\mathrm{CH_4}$-only retrieval:"
   ]
  },
  {
   "cell_type": "code",
   "execution_count": null,
   "id": "ad50da1e-e5fe-42e9-b5e2-a4dcf8acc3f6",
   "metadata": {},
   "outputs": [],
   "source": [
    "model_prior_proxy_ch4 = ForwardFunction(\n",
    "    absco_data=absco_data,\n",
    "    P_aerosol=P_aerosol[2:], #Only the CH4 band\n",
    "    ssa_aerosol=ssa_aerosol[2:], #Only the CH4 band\n",
    "    qext_aerosol=qext_aerosol[2:], #Only the CH4 band\n",
    "    co2=np.zeros(len(s.co2_prior)),\n",
    "    ch4=s.ch4_prior,\n",
    "    T=s.T_prior,\n",
    "    p=s.p_prior,\n",
    "    q=s.q_prior,\n",
    "    tau_aerosol=None, #Don't include tau_aerosol\n",
    "    albedo=s.albedo_prior[2:], #Only the CH4 band\n",
    "    band_min_um=s.band_min_um[2:], #Only the CH4 band\n",
    "    band_max_um=s.band_max_um[2:], #Only the CH4 band\n",
    "    band_min_wn=s.band_min_wn[2:], #Only the CH4 band\n",
    "    band_max_wn=s.band_max_wn[2:], #Only the CH4 band\n",
    "    band_spectral_resolutions=s.band_spectral_resolutions[2:], #Only the CH4 band\n",
    "    band_spectral_points=s.band_spectral_points[2:], #Only the CH4 band\n",
    "    band_molecules=s.band_molecules[2:], #Only the CH4 band\n",
    "    band_wn=s.band_wn[2:], #Only the CH4 band\n",
    "    band_wl=s.band_wl[2:], #Only the CH4 band\n",
    "    band_absco_res_wn=s.band_absco_res_wn[2:], #Only the CH4 band\n",
    "    resolving_power_band=s.resolving_power_band[2:], #Only the CH4 band\n",
    "    sigma_band=s.sigma_band[2:], #Only the CH4 band\n",
    "    band_wn_index=s.band_wn_index[2:], #Only the CH4 band\n",
    "    ILS_Gaussian_term=s.ILS_Gaussian_term[2:], #Only the CH4 band\n",
    "    ILS_Gaussian_term_sum=s.ILS_Gaussian_term_sum[2:] #Only the CH4 band\n",
    "    )\n",
    "\n",
    "#Copy the original state vector, except only use the CH4 band and don't include tau_aerosol\n",
    "x_proxy_ch4 = {}\n",
    "indices = [1,2,3,4,7]\n",
    "x_temp = deepcopy(x)\n",
    "x_proxy_ch4[\"prior\"] = np.array([x_temp[\"prior\"][i] for i in indices])\n",
    "x_proxy_ch4[\"names\"] = [x_temp[\"names\"][i] for i in indices]\n",
    "x_proxy_ch4[\"true\"] = np.array([x_temp[\"true\"][i] for i in indices])\n",
    "x_proxy_ch4[\"S_prior\"] = np.array(x_temp[\"S_prior\"][np.ix_(indices,indices)])\n",
    "\n",
    "#Also hack together the true radiances for the CO2 band\n",
    "model_true_proxy_ch4 = deepcopy(model_true_with_aerosols)\n",
    "model_true_proxy_ch4.y = model_true_proxy_ch4.y[model_true_proxy_ch4.band_spectral_points[0]+model_true_proxy_ch4.band_spectral_points[1]:]\n",
    "model_true_proxy_ch4.Sy_inv = model_true_proxy_ch4.Sy_inv[model_true_proxy_ch4.band_spectral_points[0]+model_true_proxy_ch4.band_spectral_points[1]:,model_true_proxy_ch4.band_spectral_points[0]+model_true_proxy_ch4.band_spectral_points[1]:,]\n",
    "\n",
    "#Pass our prior without aerosols, but the true state with aerosols\n",
    "ret_proxy_ch4 = Retrieval()\n",
    "ret_proxy_ch4.run(x_proxy_ch4, model_prior_proxy_ch4, model_true_proxy_ch4, absco_data)\n",
    "\n",
    "#Grab retrieved radiances\n",
    "model_ret_proxy_ch4 = Retrieval.forward_model(ret_proxy_ch4, x_proxy_ch4, model_prior_proxy_ch4, absco_data)\n",
    "\n",
    "#Number of dry air molecules per cubic meter (number density)\n",
    "model_ret_proxy_ch4.n_dry_air = calculate_n_dry_air(model_ret_proxy_ch4.p_diff, model_ret_proxy_ch4.q_layer)\n",
    "\n",
    "#Number of CH4 molecules per cubic meter (number density)\n",
    "model_ret_proxy_ch4.n_ch4 = model_ret_proxy_ch4.n_dry_air * model_ret_proxy_ch4.ch4_layer"
   ]
  },
  {
   "cell_type": "markdown",
   "id": "c1334062-b633-457b-9a45-557664d8afbb",
   "metadata": {},
   "source": [
    "#### Proxy method for estimating $X_{\\mathrm{CH_4}}$:"
   ]
  },
  {
   "cell_type": "code",
   "execution_count": null,
   "id": "d38aea7d-3008-46cc-b5e5-c509d12d3e68",
   "metadata": {},
   "outputs": [],
   "source": [
    "xch4_proxy = (np.sum(model_ret_proxy_ch4.n_ch4) / np.sum(model_ret_proxy_co2.n_co2)) * model_prior.xco2*1e-6 *1e9 #To ppb\n",
    "print(\"True XCH4 =\",'{:.5f}'.format(model_true.xch4),\"ppb\")\n",
    "print(\"Proxy XCH4 (using prior XCO2) =\",'{:.5f}'.format(xch4_proxy),\"ppb\")\n",
    "print(\"Proxy XCH4 (error using prior XCO2) =\",'{:.5f}'.format(xch4_proxy - model_true.xch4),\"ppb\")"
   ]
  },
  {
   "cell_type": "markdown",
   "id": "f7e04a10-9ac2-4686-9a93-c60419ba715f",
   "metadata": {},
   "source": [
    "#### Or, instead of using the a priori $X_{\\mathrm{CO_2}}$, pretend we know the true $X_{\\mathrm{CO_2}}$:"
   ]
  },
  {
   "cell_type": "code",
   "execution_count": null,
   "id": "adc2adc7-a476-4407-ae06-b683271646a2",
   "metadata": {},
   "outputs": [],
   "source": [
    "xch4_proxy_using_true_xco2 = (np.sum(model_ret_proxy_ch4.n_ch4) / np.sum(model_ret_proxy_co2.n_co2)) * model_true.xco2*1e-6 *1e9 #To ppb\n",
    "print(\"True XCH4 =\",'{:.5f}'.format(model_true.xch4),\"ppb\")\n",
    "print(\"Proxy XCH4 (using true XCO2) =\",'{:.5f}'.format(xch4_proxy_using_true_xco2),\"ppb\")\n",
    "print(\"Proxy XCH4 (error using true XCO2) =\",'{:.5f}'.format(xch4_proxy_using_true_xco2 - model_true.xch4),\"ppb\")"
   ]
  },
  {
   "cell_type": "code",
   "execution_count": null,
   "id": "953084c3-d550-42b8-9e99-d26de667c390",
   "metadata": {},
   "outputs": [],
   "source": [
    "fig, ax = plt.subplots(2, 1, figsize=(12,8))\n",
    "#ax[0].plot(model_prior_proxy_co2.band_wl[0], (model_prior_proxy_co2.R_band[0] - model_true_proxy_co2.R_band[1])/(model_true_proxy_co2.R_band[1].max())*100.,label=\"A Priori Residuals\",c='#377eb8')\n",
    "ax[0].plot(model_prior_proxy_co2.band_wl[0], (model_ret_proxy_co2.R_band[0] - model_true_proxy_co2.R_band[1])/(model_true_proxy_co2.R_band[1].max())*100.,label=\"A Posteriori Residuals (Proxy Method)\",c='#e41a1c')\n",
    "ax[0].set_title(\"CO\"+r'$_2$')\n",
    "ax[0].set_xlim(min(model_prior_proxy_co2.band_wl[0]),max(model_prior_proxy_co2.band_wl[0]))\n",
    "ax[0].grid(True)\n",
    "ax[0].legend(loc=\"center right\",fontsize=14)\n",
    "#ax[1].plot(model_prior_proxy_ch4.band_wl[0], (model_prior_proxy_ch4.R_band[0] - model_true_proxy_ch4.R_band[2])/(model_true_proxy_ch4.R_band[2].max())*100.,c='#377eb8')\n",
    "ax[1].plot(model_prior_proxy_ch4.band_wl[0], (model_ret_proxy_ch4.R_band[0] - model_true_proxy_ch4.R_band[2])/(model_true_proxy_ch4.R_band[2].max())*100.,c='#e41a1c')\n",
    "ax[1].set_xlim(min(model_prior_proxy_ch4.band_wl[0]),max(model_prior_proxy_ch4.band_wl[0]))\n",
    "ax[1].set_ylabel('Radiance Residuals (% Relative to Continuum)',size=16)\n",
    "ax[1].set_title(\"CH\"+r'$_4$')\n",
    "ax[1].grid(True)\n",
    "ax[1].set_xlabel('Wavelength ['+r'$\\mu m$'+']',size=16)"
   ]
  },
  {
   "cell_type": "markdown",
   "id": "71b07774",
   "metadata": {},
   "source": [
    "#### Things to ponder for (6):\n",
    "*   How does the proxy XCH4 retrieval compare to the full physics retrieval?"
   ]
  },
  {
   "cell_type": "markdown",
   "id": "1c27fd66",
   "metadata": {},
   "source": [
    "#### Ideas for additional tests:\n",
    "*   Either improve or degrade the SNR (in settings.py) and rerun the notebook. How do the Xgas errors change?\n",
    "*   Either improve or degrade the band spectral resolution (in settings.py). How do the Xgas errors change? How do the AKs change?\n",
    "*   What happens if your prior Xgas is way off the true Xgas? (E.g., co2=s.co2_prior*0.5)"
   ]
  },
  {
   "cell_type": "code",
   "execution_count": null,
   "id": "50ffc4ab-4c15-48a9-89fa-16fe97ddd682",
   "metadata": {},
   "outputs": [],
   "source": []
  }
 ],
 "metadata": {
  "kernelspec": {
   "display_name": "base",
   "language": "python",
   "name": "python3"
  },
  "language_info": {
   "codemirror_mode": {
    "name": "ipython",
    "version": 3
   },
   "file_extension": ".py",
   "mimetype": "text/x-python",
   "name": "python",
   "nbconvert_exporter": "python",
   "pygments_lexer": "ipython3",
   "version": "3.10.13"
  }
 },
 "nbformat": 4,
 "nbformat_minor": 5
}
