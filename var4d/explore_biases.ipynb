{
 "cells": [
  {
   "cell_type": "code",
   "execution_count": 2,
   "id": "2f0a42ca-209d-4584-968e-bf956479cf59",
   "metadata": {},
   "outputs": [],
   "source": [
    "from var4d_components import Var4D_Components\n",
    "from visualize_results import Visualize_Obs, Visualize_Fluxes"
   ]
  },
  {
   "cell_type": "markdown",
   "id": "662c59bb-54d2-4123-8304-47b392fa3c2b",
   "metadata": {},
   "source": [
    "# An inversion with all OCO2 observations and no biases"
   ]
  },
  {
   "cell_type": "code",
   "execution_count": 2,
   "id": "581544d6-26fe-4273-9bc5-91d3693bae57",
   "metadata": {
    "scrolled": true
   },
   "outputs": [
    {
     "data": {
      "application/vnd.jupyter.widget-view+json": {
       "model_id": "4ecf395c683c476cb74ce5fdb879d4f0",
       "version_major": 2,
       "version_minor": 0
      },
      "text/plain": [
       "Converting CT2022 to state vector:   0%|          | 0/24 [00:00<?, ?it/s]"
      ]
     },
     "metadata": {},
     "output_type": "display_data"
    },
    {
     "name": "stdout",
     "output_type": "stream",
     "text": [
      "633080 of 1156383 obs will be assimilated\n"
     ]
    },
    {
     "data": {
      "application/vnd.jupyter.widget-view+json": {
       "model_id": "a93be639e2554dfb85c5403bb7bc7f42",
       "version_major": 2,
       "version_minor": 0
      },
      "text/plain": [
       "Converting SiB4 to state vector:   0%|          | 0/24 [00:00<?, ?it/s]"
      ]
     },
     "metadata": {},
     "output_type": "display_data"
    },
    {
     "data": {
      "application/vnd.jupyter.widget-view+json": {
       "model_id": "7a05cd2c613748a99d4b70c052a3c1fe",
       "version_major": 2,
       "version_minor": 0
      },
      "text/plain": [
       "Converting SiB4 to state vector:   0%|          | 0/24 [00:00<?, ?it/s]"
      ]
     },
     "metadata": {},
     "output_type": "display_data"
    },
    {
     "data": {
      "application/vnd.jupyter.widget-view+json": {
       "model_id": "1f4c04c87ecd4b5bbcb9676e9b880036",
       "version_major": 2,
       "version_minor": 0
      },
      "text/plain": [
       "Cost function evaluation: |          | 0 [00:00, ?it/s]"
      ]
     },
     "metadata": {},
     "output_type": "display_data"
    },
    {
     "data": {
      "application/vnd.jupyter.widget-view+json": {
       "model_id": "ffc02e44ea6443e296658ee3960bbb00",
       "version_major": 2,
       "version_minor": 0
      },
      "text/plain": [
       "Gradient evaluation: |          | 0 [00:00, ?it/s]"
      ]
     },
     "metadata": {},
     "output_type": "display_data"
    },
    {
     "data": {
      "application/vnd.jupyter.widget-view+json": {
       "model_id": "b78b5726a76442dd84fde8dfbfcc3518",
       "version_major": 2,
       "version_minor": 0
      },
      "text/plain": [
       "Forward transport: |          | 0 [00:00, ?it/s]"
      ]
     },
     "metadata": {},
     "output_type": "display_data"
    },
    {
     "data": {
      "application/vnd.jupyter.widget-view+json": {
       "model_id": "2d8e0de006764b3787120e91e58a318e",
       "version_major": 2,
       "version_minor": 0
      },
      "text/plain": [
       "Adjoint transport: |          | 0 [00:00, ?it/s]"
      ]
     },
     "metadata": {},
     "output_type": "display_data"
    },
    {
     "data": {
      "application/vnd.jupyter.widget-view+json": {
       "model_id": "9a0169e282234cb9a235b54b3efe6d3a",
       "version_major": 2,
       "version_minor": 0
      },
      "text/plain": [
       "Hessian product evaluation: |          | 0 [00:00, ?it/s]"
      ]
     },
     "metadata": {},
     "output_type": "display_data"
    },
    {
     "name": "stdout",
     "output_type": "stream",
     "text": [
      "End of 4DVAR loop\n"
     ]
    }
   ],
   "source": [
    "flux_corr_structure = {'temp_corr': 2.0} # 2-month temporal correlation, no horizontal correlation\n",
    "prior_flux_unc_dict = {'prior_unc_source': 'reco', 'prior_unc_scale': {'land': 0.25, 'ocean': 0.5}}\n",
    "obs_assim_dict = {'oco2': True}\n",
    "var4d = Var4D_Components('all_oco2', verbose=False, store_intermediate=False)\n",
    "var4d.var4d_setup(obs_to_assim=obs_assim_dict, corr_structure=flux_corr_structure, **prior_flux_unc_dict)\n",
    "var4d.var4d_chain(gradnorm=1.0E-5)"
   ]
  },
  {
   "cell_type": "markdown",
   "id": "e0fad9a4-c032-404b-a587-80aeba23ef7b",
   "metadata": {},
   "source": [
    "# Same inversion but with a 0.25 ppm bias over North Africa"
   ]
  },
  {
   "cell_type": "code",
   "execution_count": 3,
   "id": "509842d4-839c-4b70-ad22-708ccb3068b7",
   "metadata": {
    "scrolled": true
   },
   "outputs": [
    {
     "data": {
      "application/vnd.jupyter.widget-view+json": {
       "model_id": "8341f8c90d004049954aa42150477a8b",
       "version_major": 2,
       "version_minor": 0
      },
      "text/plain": [
       "Converting CT2022 to state vector:   0%|          | 0/24 [00:00<?, ?it/s]"
      ]
     },
     "metadata": {},
     "output_type": "display_data"
    },
    {
     "name": "stdout",
     "output_type": "stream",
     "text": [
      "633080 of 1156383 obs will be assimilated\n"
     ]
    },
    {
     "data": {
      "application/vnd.jupyter.widget-view+json": {
       "model_id": "5f5cbd5beae44a57871a77975e048c06",
       "version_major": 2,
       "version_minor": 0
      },
      "text/plain": [
       "Converting SiB4 to state vector:   0%|          | 0/24 [00:00<?, ?it/s]"
      ]
     },
     "metadata": {},
     "output_type": "display_data"
    },
    {
     "data": {
      "application/vnd.jupyter.widget-view+json": {
       "model_id": "2b32180ad8854e3aa91c4b5b30a67da9",
       "version_major": 2,
       "version_minor": 0
      },
      "text/plain": [
       "Converting SiB4 to state vector:   0%|          | 0/24 [00:00<?, ?it/s]"
      ]
     },
     "metadata": {},
     "output_type": "display_data"
    },
    {
     "name": "stdout",
     "output_type": "stream",
     "text": [
      "Added 0.2 ppm bias to 34147 out of 1156383 obs\n"
     ]
    },
    {
     "data": {
      "application/vnd.jupyter.widget-view+json": {
       "model_id": "f4c1a593c072406fb729260d61781dd2",
       "version_major": 2,
       "version_minor": 0
      },
      "text/plain": [
       "Cost function evaluation: |          | 0 [00:00, ?it/s]"
      ]
     },
     "metadata": {},
     "output_type": "display_data"
    },
    {
     "data": {
      "application/vnd.jupyter.widget-view+json": {
       "model_id": "484e43c8b05a46af813cb79d04b8f355",
       "version_major": 2,
       "version_minor": 0
      },
      "text/plain": [
       "Gradient evaluation: |          | 0 [00:00, ?it/s]"
      ]
     },
     "metadata": {},
     "output_type": "display_data"
    },
    {
     "data": {
      "application/vnd.jupyter.widget-view+json": {
       "model_id": "56bf63d1d8204c53a147b68b59c20611",
       "version_major": 2,
       "version_minor": 0
      },
      "text/plain": [
       "Forward transport: |          | 0 [00:00, ?it/s]"
      ]
     },
     "metadata": {},
     "output_type": "display_data"
    },
    {
     "data": {
      "application/vnd.jupyter.widget-view+json": {
       "model_id": "a72090fc92a14274a6eee242b3a2135f",
       "version_major": 2,
       "version_minor": 0
      },
      "text/plain": [
       "Adjoint transport: |          | 0 [00:00, ?it/s]"
      ]
     },
     "metadata": {},
     "output_type": "display_data"
    },
    {
     "data": {
      "application/vnd.jupyter.widget-view+json": {
       "model_id": "4f9ab82f4a6d484495f23116aa92df81",
       "version_major": 2,
       "version_minor": 0
      },
      "text/plain": [
       "Hessian product evaluation: |          | 0 [00:00, ?it/s]"
      ]
     },
     "metadata": {},
     "output_type": "display_data"
    },
    {
     "name": "stdout",
     "output_type": "stream",
     "text": [
      "End of 4DVAR loop\n"
     ]
    }
   ],
   "source": [
    "flux_corr_structure = {'temp_corr': 2.0} # 2-month temporal correlation, no horizontal correlation\n",
    "prior_flux_unc_dict = {'prior_unc_source': 'reco', 'prior_unc_scale': {'land': 0.25, 'ocean': 0.5}}\n",
    "obs_assim_dict = {'oco2': True}\n",
    "var4d = Var4D_Components('all_oco2_nafrica_bias', verbose=False, store_intermediate=False)\n",
    "var4d.var4d_setup(obs_to_assim=obs_assim_dict, corr_structure=flux_corr_structure, **prior_flux_unc_dict) # prior flux error = 0.25 * abs(prior flux)\n",
    "var4d.add_obs_bias(0.25, platform='oco2', lat_min=0., lat_max=32., lon_min=-15., lon_max=50.)\n",
    "var4d.var4d_chain(gradnorm=1.0E-5)"
   ]
  },
  {
   "cell_type": "markdown",
   "id": "d85b3514-08a0-4063-abaf-655e5eb0b51d",
   "metadata": {},
   "source": [
    "## Summarize the annual fluxes\n",
    "### Without bias"
   ]
  },
  {
   "cell_type": "code",
   "execution_count": 5,
   "id": "41051e8d-f8b9-4555-afe5-572e5ee41a6e",
   "metadata": {},
   "outputs": [
    {
     "name": "stdout",
     "output_type": "stream",
     "text": [
      "Region                    True (PgC/yr)  Prior (PgC/yr)  Poste (PgC/yr)\n",
      "=======================================================================\n",
      "North American Boreal             -0.26    -0.15 ± 0.50    -0.27 ± 0.02\n",
      "North American Temperate          -0.19    -0.37 ± 1.31    -0.19 ± 0.01\n",
      "South American Tropical           -0.01    -1.14 ± 3.00    -0.01 ± 0.01\n",
      "South American Temperate           0.07    -0.16 ± 1.48     0.07 ± 0.01\n",
      "Northern Africa                   -0.55    -0.33 ± 1.47    -0.53 ± 0.01\n",
      "Southern Africa                   -0.27    -0.17 ± 1.45    -0.27 ± 0.01\n",
      "Eurasian Boreal                   -0.95    -0.29 ± 0.91    -0.95 ± 0.01\n",
      "Eurasian Temperate                 0.02    -0.30 ± 1.26     0.02 ± 0.01\n",
      "Tropical Asia                     -0.07    -0.50 ± 1.35    -0.07 ± 0.01\n",
      "Australia                         -0.06     0.04 ± 0.35    -0.06 ± 0.00\n",
      "Europe                            -0.11    -0.17 ± 1.16    -0.13 ± 0.01\n",
      "North Pacific Temperate           -0.86    -1.02 ± 0.30    -0.88 ± 0.05\n",
      "West Pacific Tropical             -0.01    -0.26 ± 0.08    -0.01 ± 0.03\n",
      "East Pacific Tropical              0.44     0.28 ± 0.12     0.43 ± 0.03\n",
      "South Pacific Temperate           -0.59    -0.61 ± 0.24    -0.57 ± 0.04\n",
      "Northern Ocean                    -0.47    -0.40 ± 0.17    -0.28 ± 0.06\n",
      "North Atlantic Temperate          -0.56    -0.34 ± 0.14    -0.52 ± 0.04\n",
      "Atlantic Tropical                  0.06     0.01 ± 0.02     0.04 ± 0.02\n",
      "South Atlantic Temperate          -0.46    -0.36 ± 0.11    -0.42 ± 0.06\n",
      "Southern Ocean                    -0.36    -0.50 ± 0.16    -0.42 ± 0.07\n",
      "Indian Tropical                    0.06    -0.06 ± 0.06     0.03 ± 0.03\n",
      "South Indian Temperate            -0.61    -0.43 ± 0.15    -0.56 ± 0.05\n",
      "North America                     -0.45    -0.53 ± 1.41    -0.46 ± 0.02\n",
      "South America                      0.06    -1.30 ± 3.35     0.05 ± 0.01\n",
      "Africa                            -0.81    -0.49 ± 2.06    -0.80 ± 0.01\n",
      "Eurasia                           -1.00    -1.10 ± 2.06    -1.00 ± 0.02\n",
      "Pacific Ocean                     -1.02    -1.61 ± 0.41    -1.03 ± 0.05\n",
      "Atlantic Ocean                    -0.95    -0.68 ± 0.18    -0.90 ± 0.07\n",
      "Indian Ocean                      -0.54    -0.49 ± 0.17    -0.53 ± 0.04\n",
      "Global Land                       -2.37    -3.54 ± 4.81    -2.39 ± 0.02\n",
      "Global Ocean                      -3.35    -3.69 ± 0.53    -3.16 ± 0.10\n",
      "Globe                             -5.73    -7.23 ± 4.84    -5.55 ± 0.08\n"
     ]
    }
   ],
   "source": [
    "vf_nobias = Visualize_Fluxes('all_oco2')\n",
    "vf_nobias.print_annual_totals()"
   ]
  },
  {
   "cell_type": "code",
   "execution_count": 6,
   "id": "37028f8b-c7e4-4a7b-923d-5cb92a0bc35a",
   "metadata": {},
   "outputs": [
    {
     "name": "stdout",
     "output_type": "stream",
     "text": [
      "Region                    True (PgC/yr)  Prior (PgC/yr)  Poste (PgC/yr)\n",
      "=======================================================================\n",
      "North American Boreal             -0.26    -0.15 ± 0.50    -0.26 ± 0.02\n",
      "North American Temperate          -0.19    -0.37 ± 1.31    -0.18 ± 0.01\n",
      "South American Tropical           -0.01    -1.14 ± 3.00    -0.04 ± 0.01\n",
      "South American Temperate           0.07    -0.16 ± 1.48     0.07 ± 0.01\n",
      "Northern Africa                   -0.55    -0.33 ± 1.47    -0.29 ± 0.01\n",
      "Southern Africa                   -0.27    -0.17 ± 1.45    -0.30 ± 0.01\n",
      "Eurasian Boreal                   -0.95    -0.29 ± 0.91    -0.99 ± 0.01\n",
      "Eurasian Temperate                 0.02    -0.30 ± 1.26    -0.02 ± 0.01\n",
      "Tropical Asia                     -0.07    -0.50 ± 1.35    -0.08 ± 0.01\n",
      "Australia                         -0.06     0.04 ± 0.35    -0.06 ± 0.00\n",
      "Europe                            -0.11    -0.17 ± 1.16    -0.08 ± 0.01\n",
      "North Pacific Temperate           -0.86    -1.02 ± 0.30    -0.97 ± 0.05\n",
      "West Pacific Tropical             -0.01    -0.26 ± 0.08    -0.02 ± 0.03\n",
      "East Pacific Tropical              0.44     0.28 ± 0.12     0.41 ± 0.03\n",
      "South Pacific Temperate           -0.59    -0.61 ± 0.24    -0.58 ± 0.05\n",
      "Northern Ocean                    -0.47    -0.40 ± 0.17    -0.27 ± 0.06\n",
      "North Atlantic Temperate          -0.56    -0.34 ± 0.14    -0.56 ± 0.04\n",
      "Atlantic Tropical                  0.06     0.01 ± 0.02    -0.06 ± 0.02\n",
      "South Atlantic Temperate          -0.46    -0.36 ± 0.11    -0.50 ± 0.06\n",
      "Southern Ocean                    -0.36    -0.50 ± 0.16    -0.38 ± 0.07\n",
      "Indian Tropical                    0.06    -0.06 ± 0.06     0.04 ± 0.03\n",
      "South Indian Temperate            -0.61    -0.43 ± 0.15    -0.54 ± 0.05\n",
      "North America                     -0.45    -0.53 ± 1.41    -0.44 ± 0.02\n",
      "South America                      0.06    -1.30 ± 3.35     0.04 ± 0.01\n",
      "Africa                            -0.81    -0.49 ± 2.06    -0.60 ± 0.01\n",
      "Eurasia                           -1.00    -1.10 ± 2.06    -1.08 ± 0.02\n",
      "Pacific Ocean                     -1.02    -1.61 ± 0.41    -1.16 ± 0.05\n",
      "Atlantic Ocean                    -0.95    -0.68 ± 0.18    -1.12 ± 0.08\n",
      "Indian Ocean                      -0.54    -0.49 ± 0.17    -0.50 ± 0.04\n",
      "Global Land                       -2.37    -3.54 ± 4.81    -2.23 ± 0.03\n",
      "Global Ocean                      -3.35    -3.69 ± 0.53    -3.42 ± 0.10\n",
      "Globe                             -5.73    -7.23 ± 4.84    -5.65 ± 0.08\n"
     ]
    }
   ],
   "source": [
    "vf_bias = Visualize_Fluxes('all_oco2_nafrica_bias')\n",
    "vf_bias.print_annual_totals()"
   ]
  },
  {
   "cell_type": "markdown",
   "id": "3185a615-cfc1-4420-b7cb-0380f6c7cf53",
   "metadata": {},
   "source": [
    "# An inversion with all in situ observations and no biases"
   ]
  },
  {
   "cell_type": "code",
   "execution_count": 7,
   "id": "fba15185-fa68-42f3-b5dc-38f0b089908c",
   "metadata": {
    "scrolled": true
   },
   "outputs": [
    {
     "data": {
      "application/vnd.jupyter.widget-view+json": {
       "model_id": "cbf9c0bca649444f9995023cf2a827cb",
       "version_major": 2,
       "version_minor": 0
      },
      "text/plain": [
       "Converting CT2022 to state vector:   0%|          | 0/24 [00:00<?, ?it/s]"
      ]
     },
     "metadata": {},
     "output_type": "display_data"
    },
    {
     "name": "stdout",
     "output_type": "stream",
     "text": [
      "462509 of 1156383 obs will be assimilated\n"
     ]
    },
    {
     "data": {
      "application/vnd.jupyter.widget-view+json": {
       "model_id": "bf5d9e9aea164704aef3de4c9502e2b8",
       "version_major": 2,
       "version_minor": 0
      },
      "text/plain": [
       "Converting SiB4 to state vector:   0%|          | 0/24 [00:00<?, ?it/s]"
      ]
     },
     "metadata": {},
     "output_type": "display_data"
    },
    {
     "data": {
      "application/vnd.jupyter.widget-view+json": {
       "model_id": "0c7ccf54a60c4fe89b8e889f27c5fe4d",
       "version_major": 2,
       "version_minor": 0
      },
      "text/plain": [
       "Converting SiB4 to state vector:   0%|          | 0/24 [00:00<?, ?it/s]"
      ]
     },
     "metadata": {},
     "output_type": "display_data"
    },
    {
     "data": {
      "application/vnd.jupyter.widget-view+json": {
       "model_id": "97c8595b89564a7f9bead55645b2fa05",
       "version_major": 2,
       "version_minor": 0
      },
      "text/plain": [
       "Cost function evaluation: |          | 0 [00:00, ?it/s]"
      ]
     },
     "metadata": {},
     "output_type": "display_data"
    },
    {
     "data": {
      "application/vnd.jupyter.widget-view+json": {
       "model_id": "6bfc80bc0127426584c5b29e18e7debf",
       "version_major": 2,
       "version_minor": 0
      },
      "text/plain": [
       "Gradient evaluation: |          | 0 [00:00, ?it/s]"
      ]
     },
     "metadata": {},
     "output_type": "display_data"
    },
    {
     "data": {
      "application/vnd.jupyter.widget-view+json": {
       "model_id": "f2cec8b403a741b2914448f438598f4e",
       "version_major": 2,
       "version_minor": 0
      },
      "text/plain": [
       "Forward transport: |          | 0 [00:00, ?it/s]"
      ]
     },
     "metadata": {},
     "output_type": "display_data"
    },
    {
     "data": {
      "application/vnd.jupyter.widget-view+json": {
       "model_id": "a4308c9acc554a11827d888537dc1054",
       "version_major": 2,
       "version_minor": 0
      },
      "text/plain": [
       "Adjoint transport: |          | 0 [00:00, ?it/s]"
      ]
     },
     "metadata": {},
     "output_type": "display_data"
    },
    {
     "data": {
      "application/vnd.jupyter.widget-view+json": {
       "model_id": "9de11dbbd5c04ff8b3d8f152699e42b9",
       "version_major": 2,
       "version_minor": 0
      },
      "text/plain": [
       "Hessian product evaluation: |          | 0 [00:00, ?it/s]"
      ]
     },
     "metadata": {},
     "output_type": "display_data"
    },
    {
     "name": "stdout",
     "output_type": "stream",
     "text": [
      "End of 4DVAR loop\n"
     ]
    }
   ],
   "source": [
    "flux_corr_structure = {'temp_corr': 2.0} # 2-month temporal correlation, no horizontal correlation\n",
    "prior_flux_unc_dict = {'prior_unc_source': 'reco', 'prior_unc_scale': {'land': 0.25, 'ocean': 0.5}}\n",
    "obs_assim_dict = {'is': True}\n",
    "var4d = Var4D_Components('all_is', verbose=False, store_intermediate=False)\n",
    "var4d.var4d_setup(obs_to_assim=obs_assim_dict, corr_structure=flux_corr_structure, **prior_flux_unc_dict)\n",
    "var4d.var4d_chain(gradnorm=1.0E-5)"
   ]
  },
  {
   "cell_type": "markdown",
   "id": "d7db629b-4f67-4a10-a328-0bdde7aa2c6c",
   "metadata": {},
   "source": [
    "# Same inversion but with a -0.5 ppm bias over Tropical South America"
   ]
  },
  {
   "cell_type": "code",
   "execution_count": 8,
   "id": "587ebe24-31d7-4566-86ea-1a4fdbaf3996",
   "metadata": {},
   "outputs": [
    {
     "data": {
      "application/vnd.jupyter.widget-view+json": {
       "model_id": "6f522905d00740b990970805b911a951",
       "version_major": 2,
       "version_minor": 0
      },
      "text/plain": [
       "Converting CT2022 to state vector:   0%|          | 0/24 [00:00<?, ?it/s]"
      ]
     },
     "metadata": {},
     "output_type": "display_data"
    },
    {
     "name": "stdout",
     "output_type": "stream",
     "text": [
      "633080 of 1156383 obs will be assimilated\n"
     ]
    },
    {
     "data": {
      "application/vnd.jupyter.widget-view+json": {
       "model_id": "dae94348f4d3436188c429acda2a7c3c",
       "version_major": 2,
       "version_minor": 0
      },
      "text/plain": [
       "Converting SiB4 to state vector:   0%|          | 0/24 [00:00<?, ?it/s]"
      ]
     },
     "metadata": {},
     "output_type": "display_data"
    },
    {
     "data": {
      "application/vnd.jupyter.widget-view+json": {
       "model_id": "a24c22b57f66496a9d83a69deaa5cb28",
       "version_major": 2,
       "version_minor": 0
      },
      "text/plain": [
       "Converting SiB4 to state vector:   0%|          | 0/24 [00:00<?, ?it/s]"
      ]
     },
     "metadata": {},
     "output_type": "display_data"
    },
    {
     "name": "stdout",
     "output_type": "stream",
     "text": [
      "Added 0.2 ppm bias to 96 out of 1156383 obs\n"
     ]
    },
    {
     "data": {
      "application/vnd.jupyter.widget-view+json": {
       "model_id": "36ca82ba66594d6d9ae476effa5aca58",
       "version_major": 2,
       "version_minor": 0
      },
      "text/plain": [
       "Cost function evaluation: |          | 0 [00:00, ?it/s]"
      ]
     },
     "metadata": {},
     "output_type": "display_data"
    },
    {
     "data": {
      "application/vnd.jupyter.widget-view+json": {
       "model_id": "5164e5b3509b400d950d447888785b67",
       "version_major": 2,
       "version_minor": 0
      },
      "text/plain": [
       "Gradient evaluation: |          | 0 [00:00, ?it/s]"
      ]
     },
     "metadata": {},
     "output_type": "display_data"
    },
    {
     "data": {
      "application/vnd.jupyter.widget-view+json": {
       "model_id": "7457705fc573400591365946fe99a55e",
       "version_major": 2,
       "version_minor": 0
      },
      "text/plain": [
       "Forward transport: |          | 0 [00:00, ?it/s]"
      ]
     },
     "metadata": {},
     "output_type": "display_data"
    },
    {
     "data": {
      "application/vnd.jupyter.widget-view+json": {
       "model_id": "b53121e989ba4e639e97aaa3922588cb",
       "version_major": 2,
       "version_minor": 0
      },
      "text/plain": [
       "Adjoint transport: |          | 0 [00:00, ?it/s]"
      ]
     },
     "metadata": {},
     "output_type": "display_data"
    },
    {
     "data": {
      "application/vnd.jupyter.widget-view+json": {
       "model_id": "f520550d94cf4c04bdb7d27415fca896",
       "version_major": 2,
       "version_minor": 0
      },
      "text/plain": [
       "Hessian product evaluation: |          | 0 [00:00, ?it/s]"
      ]
     },
     "metadata": {},
     "output_type": "display_data"
    },
    {
     "name": "stdout",
     "output_type": "stream",
     "text": [
      "End of 4DVAR loop\n"
     ]
    }
   ],
   "source": [
    "flux_corr_structure = {'temp_corr': 2.0} # 2-month temporal correlation, no horizontal correlation\n",
    "prior_flux_unc_dict = {'prior_unc_source': 'reco', 'prior_unc_scale': {'land': 0.25, 'ocean': 0.5}}\n",
    "obs_assim_dict = {'oco2': True}\n",
    "var4d = Var4D_Components('all_is_samtrop_bias', verbose=False, store_intermediate=False)\n",
    "var4d.var4d_setup(obs_to_assim=obs_assim_dict, corr_structure=flux_corr_structure, **prior_flux_unc_dict) # prior flux error = 0.25 * abs(prior flux)\n",
    "var4d.add_obs_bias(0.25, platform='is', lat_min=-20., lat_max=12., lon_min=-82., lon_max=-34.)\n",
    "var4d.var4d_chain(gradnorm=1.0E-5)"
   ]
  },
  {
   "cell_type": "markdown",
   "id": "47721706-1582-41f0-8230-3b8c84f35119",
   "metadata": {},
   "source": [
    "## Summarize the annual fluxes\n",
    "### Without bias"
   ]
  },
  {
   "cell_type": "code",
   "execution_count": 3,
   "id": "7edd37d6-c038-4d99-983d-5d14ba63ff6e",
   "metadata": {},
   "outputs": [
    {
     "name": "stdout",
     "output_type": "stream",
     "text": [
      "Region                    True (PgC/yr)  Prior (PgC/yr)  Poste (PgC/yr)\n",
      "=======================================================================\n",
      "North American Boreal             -0.26    -0.15 ± 0.50    -0.26 ± 0.00\n",
      "North American Temperate          -0.19    -0.37 ± 1.31    -0.19 ± 0.00\n",
      "South American Tropical           -0.01    -1.14 ± 3.00     0.03 ± 0.05\n",
      "South American Temperate           0.07    -0.16 ± 1.48     0.05 ± 0.03\n",
      "Northern Africa                   -0.55    -0.33 ± 1.47    -0.54 ± 0.06\n",
      "Southern Africa                   -0.27    -0.17 ± 1.45    -0.27 ± 0.01\n",
      "Eurasian Boreal                   -0.95    -0.29 ± 0.91    -0.95 ± 0.01\n",
      "Eurasian Temperate                 0.02    -0.30 ± 1.26     0.03 ± 0.02\n",
      "Tropical Asia                     -0.07    -0.50 ± 1.35    -0.07 ± 0.01\n",
      "Australia                         -0.06     0.04 ± 0.35    -0.06 ± 0.01\n",
      "Europe                            -0.11    -0.17 ± 1.16    -0.12 ± 0.00\n",
      "North Pacific Temperate           -0.86    -1.02 ± 0.30    -0.87 ± 0.03\n",
      "West Pacific Tropical             -0.01    -0.26 ± 0.08    -0.00 ± 0.02\n",
      "East Pacific Tropical              0.44     0.28 ± 0.12     0.38 ± 0.07\n",
      "South Pacific Temperate           -0.59    -0.61 ± 0.24    -0.59 ± 0.04\n",
      "Northern Ocean                    -0.47    -0.40 ± 0.17    -0.38 ± 0.04\n",
      "North Atlantic Temperate          -0.56    -0.34 ± 0.14    -0.57 ± 0.05\n",
      "Atlantic Tropical                  0.06     0.01 ± 0.02     0.02 ± 0.02\n",
      "South Atlantic Temperate          -0.46    -0.36 ± 0.11    -0.44 ± 0.03\n",
      "Southern Ocean                    -0.36    -0.50 ± 0.16    -0.38 ± 0.04\n",
      "Indian Tropical                    0.06    -0.06 ± 0.06     0.05 ± 0.05\n",
      "South Indian Temperate            -0.61    -0.43 ± 0.15    -0.56 ± 0.03\n",
      "North America                     -0.45    -0.53 ± 1.41    -0.45 ± 0.00\n",
      "South America                      0.06    -1.30 ± 3.35     0.08 ± 0.05\n",
      "Africa                            -0.81    -0.49 ± 2.06    -0.81 ± 0.06\n",
      "Eurasia                           -1.00    -1.10 ± 2.06    -0.99 ± 0.02\n",
      "Pacific Ocean                     -1.02    -1.61 ± 0.41    -1.09 ± 0.09\n",
      "Atlantic Ocean                    -0.95    -0.68 ± 0.18    -0.99 ± 0.06\n",
      "Indian Ocean                      -0.54    -0.49 ± 0.17    -0.50 ± 0.06\n",
      "Global Land                       -2.37    -3.54 ± 4.81    -2.35 ± 0.06\n",
      "Global Ocean                      -3.35    -3.69 ± 0.53    -3.35 ± 0.14\n",
      "Globe                             -5.73    -7.23 ± 4.84    -5.69 ± 0.11\n"
     ]
    }
   ],
   "source": [
    "vf_nobias = Visualize_Fluxes('all_is')\n",
    "vf_nobias.print_annual_totals()"
   ]
  },
  {
   "cell_type": "code",
   "execution_count": 4,
   "id": "96d826d7-74f2-4d89-9c58-5587f2796fed",
   "metadata": {},
   "outputs": [
    {
     "name": "stdout",
     "output_type": "stream",
     "text": [
      "Region                    True (PgC/yr)  Prior (PgC/yr)  Poste (PgC/yr)\n",
      "=======================================================================\n",
      "North American Boreal             -0.26    -0.15 ± 0.50    -0.27 ± 0.02\n",
      "North American Temperate          -0.19    -0.37 ± 1.31    -0.19 ± 0.01\n",
      "South American Tropical           -0.01    -1.14 ± 3.00    -0.01 ± 0.01\n",
      "South American Temperate           0.07    -0.16 ± 1.48     0.07 ± 0.01\n",
      "Northern Africa                   -0.55    -0.33 ± 1.47    -0.53 ± 0.01\n",
      "Southern Africa                   -0.27    -0.17 ± 1.45    -0.27 ± 0.01\n",
      "Eurasian Boreal                   -0.95    -0.29 ± 0.91    -0.95 ± 0.01\n",
      "Eurasian Temperate                 0.02    -0.30 ± 1.26     0.02 ± 0.01\n",
      "Tropical Asia                     -0.07    -0.50 ± 1.35    -0.07 ± 0.01\n",
      "Australia                         -0.06     0.04 ± 0.35    -0.06 ± 0.00\n",
      "Europe                            -0.11    -0.17 ± 1.16    -0.13 ± 0.01\n",
      "North Pacific Temperate           -0.86    -1.02 ± 0.30    -0.88 ± 0.05\n",
      "West Pacific Tropical             -0.01    -0.26 ± 0.08    -0.01 ± 0.03\n",
      "East Pacific Tropical              0.44     0.28 ± 0.12     0.43 ± 0.03\n",
      "South Pacific Temperate           -0.59    -0.61 ± 0.24    -0.57 ± 0.04\n",
      "Northern Ocean                    -0.47    -0.40 ± 0.17    -0.28 ± 0.06\n",
      "North Atlantic Temperate          -0.56    -0.34 ± 0.14    -0.52 ± 0.04\n",
      "Atlantic Tropical                  0.06     0.01 ± 0.02     0.04 ± 0.02\n",
      "South Atlantic Temperate          -0.46    -0.36 ± 0.11    -0.42 ± 0.06\n",
      "Southern Ocean                    -0.36    -0.50 ± 0.16    -0.42 ± 0.07\n",
      "Indian Tropical                    0.06    -0.06 ± 0.06     0.03 ± 0.03\n",
      "South Indian Temperate            -0.61    -0.43 ± 0.15    -0.56 ± 0.05\n",
      "North America                     -0.45    -0.53 ± 1.41    -0.46 ± 0.02\n",
      "South America                      0.06    -1.30 ± 3.35     0.05 ± 0.01\n",
      "Africa                            -0.81    -0.49 ± 2.06    -0.80 ± 0.01\n",
      "Eurasia                           -1.00    -1.10 ± 2.06    -1.00 ± 0.02\n",
      "Pacific Ocean                     -1.02    -1.61 ± 0.41    -1.03 ± 0.05\n",
      "Atlantic Ocean                    -0.95    -0.68 ± 0.18    -0.90 ± 0.07\n",
      "Indian Ocean                      -0.54    -0.49 ± 0.17    -0.53 ± 0.04\n",
      "Global Land                       -2.37    -3.54 ± 4.81    -2.39 ± 0.02\n",
      "Global Ocean                      -3.35    -3.69 ± 0.53    -3.16 ± 0.10\n",
      "Globe                             -5.73    -7.23 ± 4.84    -5.55 ± 0.08\n"
     ]
    }
   ],
   "source": [
    "vf_bias = Visualize_Fluxes('all_is_samtrop_bias')\n",
    "vf_bias.print_annual_totals()"
   ]
  },
  {
   "cell_type": "code",
   "execution_count": null,
   "id": "11d02941-c8ad-496e-bbdd-9866a14317df",
   "metadata": {},
   "outputs": [],
   "source": []
  }
 ],
 "metadata": {
  "kernelspec": {
   "display_name": "Python 3 (ipykernel)",
   "language": "python",
   "name": "python3"
  },
  "language_info": {
   "codemirror_mode": {
    "name": "ipython",
    "version": 3
   },
   "file_extension": ".py",
   "mimetype": "text/x-python",
   "name": "python",
   "nbconvert_exporter": "python",
   "pygments_lexer": "ipython3",
   "version": "3.11.8"
  }
 },
 "nbformat": 4,
 "nbformat_minor": 5
}
