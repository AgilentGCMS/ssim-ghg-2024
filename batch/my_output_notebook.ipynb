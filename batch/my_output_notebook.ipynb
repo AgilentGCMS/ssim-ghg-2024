{
 "cells": [
  {
   "attachments": {},
   "cell_type": "markdown",
   "id": "8fe0bbb5-6c65-4f7c-8a3d-0425b5ebfdb2",
   "metadata": {},
   "source": [
    "### The risks of mis-specification of MDM, or observation error\n",
    "This example illustrates effects of specifying your MDM (Sz) too small (too precise) or too large (too broad)\n",
    "\n",
    "- Step through the analysis, the 3 inversions presented and the resulting boxplots with estimates of surface flux:\n",
    "\n",
    "    - Describe the risks of being overconfident of your observation errors?\n",
    "    - Do there appear to be any risks of being underconfident of your observation errors?"
   ]
  },
  {
   "cell_type": "markdown",
   "id": "e8968175-cd97-473c-9211-5d1cdc57418d",
   "metadata": {},
   "source": [
    "#### Setting up Environment for Computing\n",
    "This cell simply looks for whether we are on GHGHub (or local) and sets up environment, including directory references and libraries."
   ]
  },
  {
   "cell_type": "code",
   "execution_count": null,
   "id": "d8f122bc-5c4a-44ad-8ba2-f2ae05ef5bbd",
   "metadata": {},
   "outputs": [],
   "source": [
    "####################################################################\n",
    "#  THIS CELL IS ALL SETUP FOR EACH OF THE NOTEBOOKS\n",
    "####################################################################\n",
    "\n",
    "#-- Look for locally installed packages on NASA JupyterHub Resources\n",
    ".libPaths(new=c(\"/home/rstudio/shared/lib/R-4.3/x86_64-pc-linux-gnu\",.libPaths())) \n",
    ".libPaths()\n",
    "\n",
    "if(Sys.getenv(\"AWS_WEB_IDENTITY_TOKEN_FILE\") == \"\"){\n",
    " code_dir <- \"/projects/ssim-ghg-2024/\"\n",
    " data_dir <-  \"/Users/aschuh/SSIM-GHG/data/\"\n",
    " output_dir <- \"~/temp/output/\"\n",
    " }else{\n",
    " code_dir <-  \"~/ssim-ghg-2024/\"\n",
    " data_dir <-  \"~/shared/ssim-ghg-data/inversion_examples/\"\n",
    " output_dir <- \"../../output/\"\n",
    " }\n",
    "\n",
    "Rcode_dir <- file.path(code_dir,\"batch/\")\n",
    "\n",
    "setwd(Rcode_dir)\n",
    "\n",
    "#######################################################\n",
    "#-- ***Parent Directory and code for ALL inversions***\n",
    "#######################################################\n",
    "###############################################\n",
    "#-- Load Code\n",
    "##############################################\n",
    "source(file.path(Rcode_dir,\"util_code_032024.R\"))\n",
    "source(file.path(Rcode_dir,\"plot_concentrations.R\"))\n",
    "source(file.path(Rcode_dir,\"inversion_032024.R\"))\n",
    "source(file.path(Rcode_dir,\"write_inversion_2_netcdf_032024.R\"))\n",
    "source(file.path(Rcode_dir,\"generate_transcom_flux_ensemble_from_inversion.R\"))\n",
    "       \n",
    "###############################################\n",
    "#-- Required Libraries\n",
    "###############################################\n",
    "require(ncdf4)\n",
    "require(plyr)\n",
    "require(dplyr)\n",
    "require(parallel)\n",
    "require(ggplot2)\n",
    "require(abind)\n",
    "require(Matrix)\n",
    "require(lattice)\n",
    "require(memuse)\n",
    "require(EnvStats)\n",
    "require(gridExtra)\n",
    "require(mvtnorm)\n",
    "require(plotly)\n",
    "\n",
    "########################\n",
    "#--  Detect Cores\n",
    "########################\n",
    "print(paste(\"Num CPUs:\",detectCores(),\"cores\"))\n",
    "memuse::Sys.meminfo()"
   ]
  },
  {
   "cell_type": "code",
   "execution_count": null,
   "id": "9d82ee17-ee45-48d6-b823-fdddeda8b96c",
   "metadata": {},
   "outputs": [],
   "source": [
    "###############################################\n",
    "#--  Load sensitivity matrices \n",
    "###############################################\n",
    "\n",
    "load(file.path(data_dir,\"jacobians/\",\"trunc_full_jacob_030624_with_dimnames_sib4_4x5_mask.rda\"))\n",
    "load(file.path(data_dir,\"jacobians/\",\"jacob_bgd_060524.rda\"))\n",
    "\n",
    "#-- Difference in forward runs from GEOS-CHem resulted in CO2 vs C diff in mass is why 12/44 is here (note)\n",
    "#-- Assign the jacob objects to H to match notation\n",
    "H <- jacob * 12/44\n",
    "H_bgd <- jacob_bgd \n",
    "rm(jacob);rm(jacob_bgd)\n",
    "\n",
    "#-- These represent the fossil and biomass burning contributions to the observations (from fixed emission runs)\n",
    "fire_fixed <- H_bgd[,2]\n",
    "fossil_fixed <- H_bgd[,3]\n",
    "###################################################################\n",
    "#-- END END END ***Parent Directory and code for ALL inversions***\n",
    "###################################################################"
   ]
  },
  {
   "cell_type": "code",
   "execution_count": null,
   "id": "b639e8a4-9621-44f4-83d9-4ee1aa495d2d",
   "metadata": {},
   "outputs": [],
   "source": [
    "#################################\n",
    "#- Target truth in state space\n",
    "#################################\n",
    "\n",
    "##################################################################\n",
    "#-- This array holds ratios of OCO2v10MIP fluxes and SiB4 fluxes\n",
    "#-- as examples of \"scalings\" to be recovered. It also holds corresponding\n",
    "#-- differences if the inversion attempts to directly solve for flux\n",
    "#-- truth_array(24 months, 23 transcom, 98 inversions, (ratio, difference) )\n",
    "##################################################################\n",
    "\n",
    "#-- Don't Change\n",
    "#load(\"/projects/sandbox/inversion_workshop_scripts/truth_array.rda\")\n",
    "load(file.path(data_dir,\"misc/truth_array.rda\"))\n",
    "#-- pulling out NA transcom region and subset to scalar vs flux adj\n",
    "truth_array = truth_array[,-1,,1]\n",
    "#-- Don't Change\n",
    "\n",
    "\n",
    "#--  Choose our state from inversion list, option #1, and \"truncate\" to -1 and 1\n",
    "inversion_number =1   #  choose this between 1 and 98\n",
    "state_vector_true= tm(as.vector(- truth_array[,,inversion_number]),-1,1)\n",
    "\n",
    "#-- Alternatively choose a \"different\" true state like the below ones\n",
    "#-- The first just means the truth IS the prior, the second has a simple structure\n",
    "#-- Land regions fluxes are (1+0.5) * prior guess and ocean fluxes are (1- 0.5) * prior guess.\n",
    "#state_vector_true = c(rep(0,24*11),rep(0,24*11))\n",
    "#state_vector_true = c(rep(0.5,24*11),rep(-0.5,24*11))\n"
   ]
  },
  {
   "cell_type": "code",
   "execution_count": null,
   "id": "e6329db1-95a0-4634-8f17-c311d6d0a73d",
   "metadata": {},
   "outputs": [],
   "source": [
    "#########################################################\n",
    "# Generate a prior flux covariance matrix Sx\n",
    "# These first two lines form \"diagonal\" of Sx, e.g. marginal variances\n",
    "# Long term, a catalog of predefined choices is best here I think\n",
    "#########################################################\n",
    "land_prior_sd = 0.5   #-- free to set this, implies you think \"truth\" for land is within +/- 3*this\n",
    "ocean_prior_sd = 1    #-- free to set this, implies you think \"truth\" for ocean is within +/- 3*this\n",
    "\n",
    "##############################################################################\n",
    "#-- This is the structure of the 24 month subblock for each land/ocean region\n",
    "#-- induce temporal correlations\n",
    "##############################################################################\n",
    "\n",
    "#-- This will set up a prior temporal correlation, \n",
    "#-- free to set month_to_month_correlation between 0 (independent) and 1\n",
    "month_to_month_correlation = 0.5\n",
    "sigma = bdiag(rep(list(ar_covariance(24, month_to_month_correlation)), 22))  #-- free to set \n",
    "\n",
    "\n",
    "#################################################\n",
    "#-- scale by variance for land/ocean (set diagonal of matrix)\n",
    "#-- This simply puts together pieces above\n",
    "#################################################\n",
    "var_scaling_diagonal = diag(c(rep(land_prior_sd,24*11),rep(ocean_prior_sd,24*11)))\n",
    "\n",
    "Sx = as.matrix(var_scaling_diagonal %*% sigma %*% t(var_scaling_diagonal))\n",
    "\n",
    "#-- This is an alternative state_vector_true based *exactly* upon the prior covariance matrix\n",
    "#-- as opposed to being able to pick your \"truth\" separately from your assumed dist where \"truth\" lives\n",
    "#-- Probably don't want to change this unless you know what you are doing\n",
    "#state_vector_true = t(rmvnorm(n=1,mean=rep(0,528),sigma=sigma))"
   ]
  },
  {
   "cell_type": "markdown",
   "id": "2d37d05f-b591-44fb-87f7-7b018fdb9502",
   "metadata": {},
   "source": [
    "#### Choose which observations you want to assimilate\n",
    "Or in other words, which observations will be used to optimize/estimate the unknown fluxes.  This problem is somewhat over determined with over a million observations to constrain a 528 element state.  With that in mind, small observation errors and LOTS of observations used should \"nail the unknown\" solution quite well. The goal here is to create a vector of TRUE/FALSE of length equal to the total number of observations described in the sensitivity matrix we loaded above ( 1156383 ). The obs_catalog is a data.frame (think matrix of 'items'), with information about each observation and can be used to build a subset."
   ]
  },
  {
   "cell_type": "code",
   "execution_count": null,
   "id": "3d5357f8-bb84-4bcb-ae33-5a671e92b945",
   "metadata": {},
   "outputs": [],
   "source": [
    "####################################################################################\n",
    "#-- WHICH obs do you want to use in the inversion? \n",
    "#-- examples of selecting on stations, type of data, lat/lon box,etc\n",
    "####################################################################################\n",
    "\n",
    "#load(file.path(data_dir,\"obs/obs_catalog_030624.rda\")) # obs_catalog object\n",
    "load(file.path(data_dir,\"obs/obs_catalog_042424_unit_pulse_hour_timestamp_witherrors_withdates.rda\")) \n",
    "\n",
    "#-- USE ALL OBSERVATIONS\n",
    "subset_indicator_obs=rep(TRUE,dim(H)[1])\n",
    "\n",
    "############################\n",
    "#-- Downsample if necessary\n",
    "############################\n",
    "\n",
    "if(sum(subset_indicator_obs) > 0.5*length(subset_indicator_obs)) {\n",
    "  new_ind = rep(FALSE,length(subset_indicator_obs))\n",
    "  new_ind[sample(x=grep(TRUE,subset_indicator_obs),size=floor(0.5*length(subset_indicator_obs)))] = TRUE\n",
    "  print(paste(\"downsampling from\",sum(subset_indicator_obs),\"to\",\n",
    "              floor(0.5*length(subset_indicator_obs)),\"observations\"))\n",
    "  subset_indicator_obs = new_ind\n",
    "    }\n",
    "\n",
    "#-- LEAVE THIS AS IT SUMMARIZES THE NUMBER OF OBS USED\n",
    "print(paste(\"using\",sum(subset_indicator_obs),\"of\",length(subset_indicator_obs),\"observations\"))"
   ]
  },
  {
   "cell_type": "code",
   "execution_count": null,
   "id": "f05df117-e407-4f93-91d4-749b7da641a3",
   "metadata": {},
   "outputs": [],
   "source": [
    "##########################################################\n",
    "#-- sd for Gaussian i.i.d. errors, jacob is sens matrix\n",
    "##########################################################\n",
    "\n",
    "Sz_diagonal_in = rep(1,length(obs_catalog$SD))\n",
    "\n",
    "##########################################\n",
    "#-- Generate obs, 'y',  set.seed() ????\n",
    "##########################################\n",
    "\n",
    "z_in = H %*% (1+state_vector_true) + rnorm(length(Sz_diagonal_in),sd=1)"
   ]
  },
  {
   "cell_type": "code",
   "execution_count": null,
   "id": "2ef777a1-a707-4073-91c9-3611f1a52193",
   "metadata": {},
   "outputs": [],
   "source": [
    "############################\n",
    "#-- Run the actual inversion\n",
    "############################\n",
    "\n",
    "ret2  = invert_clean_notation(H=H,Sz_diagonal=Sz_diagonal_in,Sx=Sx,z=z_in,H_bgd=H_bgd,\n",
    "                    subset_indicator_obs=subset_indicator_obs,DOF=TRUE,output_Kalman_Gain=FALSE,\n",
    "                     state_vector_true=state_vector_true)"
   ]
  },
  {
   "cell_type": "markdown",
   "id": "5086cf21-8a5c-4af4-88b4-af6ac93a13f5",
   "metadata": {},
   "source": [
    "\n",
    "#### Save results from mdm=1, true=1 to org_data_control, i.e. this is how inversion \"should\" be run\n"
   ]
  },
  {
   "cell_type": "code",
   "execution_count": null,
   "id": "0d3f6a6d-cc7d-48b2-b4e1-c25f33d2daf4",
   "metadata": {},
   "outputs": [],
   "source": [
    "org_data_control = generate_transcom_flux_ensemble_from_inversion(inv_object=ret2,samples=1000)"
   ]
  },
  {
   "cell_type": "markdown",
   "id": "6d82e7a4-8230-4ab1-a266-6fd743799ac0",
   "metadata": {},
   "source": [
    "### HERE WE ARE GOING TO SET OUR ASSUMPTION OF MDM ERRORS TO 1 PPM STANDARD DEVIATION\n",
    "\n",
    "### BUT IT REALITY WE ARE GOING TO ADD 10 PPM STANDARD DEVIATION\n"
   ]
  },
  {
   "cell_type": "code",
   "execution_count": null,
   "id": "4b6766f7-b2c5-4c20-9b61-6b7792e508cd",
   "metadata": {},
   "outputs": [],
   "source": [
    "##########################################################\n",
    "#-- sd for Gaussian i.i.d. errors, jacob is sens matrix\n",
    "##########################################################\n",
    "\n",
    "Sz_diagonal_in = rep(1,length(obs_catalog$SD))\n",
    "\n",
    "##########################################\n",
    "#-- Generate obs, 'y',  set.seed() ????\n",
    "##########################################\n",
    "\n",
    "z_in = H %*% (1+state_vector_true) + rnorm(length(Sz_diagonal_in),sd=10)"
   ]
  },
  {
   "cell_type": "markdown",
   "id": "58f8edac-e5e2-41ab-a28b-cc5eaf08fc89",
   "metadata": {},
   "source": [
    "### NOTE CHI SQUARE VALUES OUT OF INVERSION BELOW SHOULD BE AROUND 1"
   ]
  },
  {
   "cell_type": "code",
   "execution_count": null,
   "id": "2f2af9b0-f45c-4349-ad03-db585905ad6e",
   "metadata": {},
   "outputs": [],
   "source": [
    "############################\n",
    "#-- Run the actual inversion\n",
    "############################\n",
    "\n",
    "ret2  = invert_clean_notation(H=H,Sz_diagonal=Sz_diagonal_in,Sx=Sx,z=z_in,H_bgd=H_bgd,\n",
    "                    subset_indicator_obs=subset_indicator_obs,DOF=TRUE,output_Kalman_Gain=FALSE,\n",
    "                     state_vector_true=state_vector_true)"
   ]
  },
  {
   "cell_type": "markdown",
   "id": "7bd5a137-ea6f-41d9-bae0-9414847cd53d",
   "metadata": {},
   "source": [
    "#### Save results from mdm=1, true=10 to org_data_mdm1_true10"
   ]
  },
  {
   "cell_type": "code",
   "execution_count": null,
   "id": "9acc2c5e-a415-4f75-8072-f6327c4d7de6",
   "metadata": {},
   "outputs": [],
   "source": [
    "org_data_mdm1_true10 = generate_transcom_flux_ensemble_from_inversion(inv_object=ret2,samples=1000)"
   ]
  },
  {
   "cell_type": "markdown",
   "id": "60dfc3b4-d9a4-47bf-93b9-f0cf8b8f2efa",
   "metadata": {},
   "source": [
    "### HERE WE ARE GOING TO SET OUR ASSUMPTION OF MDM ERRORS TO 10 PPM STANDARD DEVIATION\n"
   ]
  },
  {
   "cell_type": "code",
   "execution_count": null,
   "id": "5a9bf798-b937-404f-ab75-9e4fbe1cde9b",
   "metadata": {},
   "outputs": [],
   "source": [
    "##########################################################\n",
    "#-- sd for Gaussian i.i.d. errors, jacob is sens matrix\n",
    "##########################################################\n",
    "\n",
    "Sz_diagonal_in = rep(10,length(obs_catalog$SD))\n"
   ]
  },
  {
   "cell_type": "markdown",
   "id": "6f911bd0-65a9-4d96-9f37-be8cef56fde8",
   "metadata": {},
   "source": [
    "### BUT IT REALITY WE ARE GOING TO ADD 1 PPM STANDARD DEVIATION\n"
   ]
  },
  {
   "cell_type": "code",
   "execution_count": null,
   "id": "b55a82ab-8ee8-478f-9f94-babcaed7b862",
   "metadata": {},
   "outputs": [],
   "source": [
    "##########################################\n",
    "#-- Generate obs, 'y',  set.seed() ????\n",
    "##########################################\n",
    "\n",
    "z_in = H %*% (1+state_vector_true) + rnorm(length(Sz_diagonal_in),sd=1)"
   ]
  },
  {
   "cell_type": "code",
   "execution_count": null,
   "id": "cd51e396-65ce-4589-bde7-3d4177dd15f1",
   "metadata": {},
   "outputs": [],
   "source": [
    "############################\n",
    "#-- Run the actual inversion\n",
    "############################\n",
    "\n",
    "ret2  = invert_clean_notation(H=H,Sz_diagonal=Sz_diagonal_in,Sx=Sx,z=z_in,H_bgd=H_bgd,\n",
    "                    subset_indicator_obs=subset_indicator_obs,DOF=TRUE,output_Kalman_Gain=FALSE,\n",
    "                     state_vector_true=state_vector_true)\n",
    "\n"
   ]
  },
  {
   "cell_type": "markdown",
   "id": "cc05b0d7-2764-454e-bd2a-ef8e9ada8b87",
   "metadata": {},
   "source": [
    "#### Save results from mdm=10, true=1 to org_data_mdm10_true1"
   ]
  },
  {
   "cell_type": "code",
   "execution_count": null,
   "id": "ee8d1aaa-6059-43d8-8f6d-daccc8733d1d",
   "metadata": {},
   "outputs": [],
   "source": [
    "org_data_mdm10_true1 = generate_transcom_flux_ensemble_from_inversion(inv_object=ret2,samples=1000)"
   ]
  },
  {
   "cell_type": "markdown",
   "id": "9f7135f2-328e-4afb-a381-29057756f70b",
   "metadata": {},
   "source": [
    "### Compare and contrast\n",
    "Compare the confidence bounds carefully below (boxplots) and try to ascertain how errors in the specification of the observation error matrix (i.e. MDM or Sz) affect the posterior predictions of fluxes."
   ]
  },
  {
   "cell_type": "code",
   "execution_count": null,
   "id": "bf4ba133-15a8-4e4d-a485-44bb7738344a",
   "metadata": {},
   "outputs": [],
   "source": [
    "plot_timeseries_flux_bytranscom(org_data_control)"
   ]
  },
  {
   "cell_type": "code",
   "execution_count": null,
   "id": "ece6c246-dafe-426d-aa78-e791e7b96efb",
   "metadata": {},
   "outputs": [],
   "source": [
    "plot_timeseries_flux_bytranscom(org_data_mdm10_true1)"
   ]
  },
  {
   "cell_type": "code",
   "execution_count": null,
   "id": "75968672-8f84-4113-aa52-3f63bd168e1b",
   "metadata": {},
   "outputs": [],
   "source": [
    "plot_timeseries_flux_bytranscom(org_data_mdm1_true10)"
   ]
  },
  {
   "cell_type": "code",
   "execution_count": null,
   "id": "ef8ddc11-7aa5-4588-8c88-dfbc6b9c00d2",
   "metadata": {},
   "outputs": [],
   "source": [
    "plot_transcom_flux_by_month(org_data_control)"
   ]
  },
  {
   "cell_type": "code",
   "execution_count": null,
   "id": "d2909f6a-483a-44c4-a98b-8f1ece1f9d5e",
   "metadata": {},
   "outputs": [],
   "source": [
    "plot_transcom_flux_by_month(org_data_mdm1_true10)"
   ]
  },
  {
   "cell_type": "code",
   "execution_count": null,
   "id": "6832490f-ffce-40da-aa8f-7297f32ffafc",
   "metadata": {},
   "outputs": [],
   "source": [
    "plot_transcom_flux_by_month(org_data_mdm10_true1)"
   ]
  },
  {
   "cell_type": "code",
   "execution_count": null,
   "id": "7a1e441e-60f7-4599-967f-78d0ba3e56e2",
   "metadata": {},
   "outputs": [],
   "source": []
  }
 ],
 "metadata": {
  "kernelspec": {
   "display_name": "R",
   "language": "R",
   "name": "ir"
  },
  "language_info": {
   "codemirror_mode": "r",
   "file_extension": ".r",
   "mimetype": "text/x-r-source",
   "name": "R",
   "pygments_lexer": "r",
   "version": "4.3.1"
  }
 },
 "nbformat": 4,
 "nbformat_minor": 5
}
