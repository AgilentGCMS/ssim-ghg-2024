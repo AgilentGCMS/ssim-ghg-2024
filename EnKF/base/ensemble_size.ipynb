{
 "cells": [
  {
   "cell_type": "code",
   "execution_count": 1,
   "id": "a0604fe1-f890-47ba-98a2-f07c217efbc1",
   "metadata": {},
   "outputs": [
    {
     "name": "stderr",
     "output_type": "stream",
     "text": [
      "Loading required package: spam\n",
      "\n",
      "Spam version 2.10-0 (2023-10-23) is loaded.\n",
      "Type 'help( Spam)' or 'demo( spam)' for a short introduction \n",
      "and overview of this package.\n",
      "Help for individual functions is also obtained by adding the\n",
      "suffix '.spam' to the function name, e.g. 'help( chol.spam)'.\n",
      "\n",
      "\n",
      "Attaching package: ‘spam’\n",
      "\n",
      "\n",
      "The following objects are masked from ‘package:base’:\n",
      "\n",
      "    backsolve, forwardsolve\n",
      "\n",
      "\n",
      "Loading required package: viridisLite\n",
      "\n",
      "\n",
      "Try help(fields) to get started.\n",
      "\n"
     ]
    },
    {
     "ename": "ERROR",
     "evalue": "Error in eval(expr, envir, enclos): object 'nmem1' not found\n",
     "output_type": "error",
     "traceback": [
      "Error in eval(expr, envir, enclos): object 'nmem1' not found\nTraceback:\n",
      "1. imagePlot(limit.z(cov(foo1), c(-1, 1) * diagval), zlim = c(-1, \n .     1) * diagval, col = diverge_hsv(31), main = sprintf(\"Sampled covariance with %d members\", \n .     nmem1))",
      "2. imagePlotInfo(..., breaks = breaks, nlevel = nlevel)",
      "3. sprintf(\"Sampled covariance with %d members\", nmem1)"
     ]
    }
   ],
   "source": [
    "library(fields)\n",
    "library(colorspace)\n",
    "source(\"../tools/enkf.r\")\n",
    "options(repr.plot.width=18,repr.plot.height=5,repr.plot.res=100)\n",
    "diagval <- 2\n",
    "Sx <- diag(rep(diagval,50))\n",
    "nmemb1 <- 20\n",
    "nmemb2 <- 100\n",
    "foo1 <- generate_ensemble(Sx=Sx,nmemb=nmemb1)\n",
    "foo2 <- generate_ensemble(Sx=Sx,nmemb=nmemb2)\n",
    "layout(matrix(1:3,ncol=3))\n",
    "imagePlot(limit.z(cov(foo1),c(-1,1)*diagval),zlim=c(-1,1)*diagval,col=diverge_hsv(31),main=sprintf(\"Sampled covariance with %d members\",nmemb1))\n",
    "imagePlot(limit.z(cov(foo2),c(-1,1)*diagval),zlim=c(-1,1)*diagval,col=diverge_hsv(31),main=sprintf(\"Sampled covariance with %d members\",nmemb2))\n",
    "imagePlot(Sx,zlim=c(-1,1)*diagval,col=diverge_hsv(31),main=\"True covariance\")"
   ]
  }
 ],
 "metadata": {
  "kernelspec": {
   "display_name": "R",
   "language": "R",
   "name": "ir"
  },
  "language_info": {
   "codemirror_mode": "r",
   "file_extension": ".r",
   "mimetype": "text/x-r-source",
   "name": "R",
   "pygments_lexer": "r",
   "version": "4.4.0"
  }
 },
 "nbformat": 4,
 "nbformat_minor": 5
}
